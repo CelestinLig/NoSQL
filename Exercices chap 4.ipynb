{
 "cells": [
  {
   "cell_type": "markdown",
   "id": "0f37fb85",
   "metadata": {},
   "source": [
    "# CRUD operations"
   ]
  },
  {
   "cell_type": "markdown",
   "id": "e45f114a",
   "metadata": {},
   "source": [
    "1: You will continue to work on the MCU network for a while. Who are the 10 fastest in the MCU ? Are they related to each other ?"
   ]
  },
  {
   "cell_type": "code",
   "execution_count": 1,
   "id": "84d44154",
   "metadata": {},
   "outputs": [
    {
     "name": "stdout",
     "output_type": "stream",
     "text": [
      "'Black Bolt'\t100\n",
      "'Stardust'\t100\n",
      "'Quicksilver'\t100\n",
      "'Nova'\t100\n",
      "'Thor'\t92\n",
      "'Silver Surfer'\t84\n",
      "'Galactus'\t83\n",
      "'Dormammu'\t83\n",
      "'Ego'\t83\n",
      "'Northstar'\t83\n"
     ]
    }
   ],
   "source": [
    "import py2neo\n",
    "graph = py2neo.Graph(\"bolt://localhost:7687\", auth=(\"neo4j\", \"password_tuts\"), name=\"mcu\")\n",
    "\n",
    "query = \"\"\"MATCH (n:Superhero)\n",
    "WHERE (n.Speed) IS NOT NULL\n",
    "RETURN n.name, n.Speed\n",
    "ORDER BY n.Speed DESC\n",
    "LIMIT 10\"\"\"\n",
    "\n",
    "results = graph.run(query)\n",
    "\n",
    "for record in results:\n",
    "    print(record)"
   ]
  },
  {
   "cell_type": "code",
   "execution_count": 2,
   "id": "ad9addc4",
   "metadata": {
    "scrolled": true
   },
   "outputs": [
    {
     "name": "stdout",
     "output_type": "stream",
     "text": [
      "'Ego'\t'Galactus'\n",
      "'Dormammu'\t'Galactus'\n",
      "'Black Bolt'\t'Galactus'\n",
      "'Northstar'\t'Galactus'\n",
      "'Nova'\t'Galactus'\n",
      "'Stardust'\t'Galactus'\n",
      "'Silver Surfer'\t'Galactus'\n",
      "'Quicksilver'\t'Galactus'\n",
      "'Thor'\t'Galactus'\n",
      "'Ego'\t'Silver Surfer'\n",
      "'Nova'\t'Silver Surfer'\n",
      "'Quicksilver'\t'Silver Surfer'\n",
      "'Black Bolt'\t'Silver Surfer'\n",
      "'Galactus'\t'Silver Surfer'\n",
      "'Dormammu'\t'Silver Surfer'\n",
      "'Stardust'\t'Silver Surfer'\n",
      "'Thor'\t'Silver Surfer'\n",
      "'Northstar'\t'Thor'\n",
      "'Ego'\t'Thor'\n",
      "'Silver Surfer'\t'Thor'\n",
      "'Nova'\t'Thor'\n",
      "'Black Bolt'\t'Thor'\n",
      "'Galactus'\t'Thor'\n",
      "'Quicksilver'\t'Thor'\n",
      "'Dormammu'\t'Thor'\n",
      "'Dormammu'\t'Quicksilver'\n",
      "'Ego'\t'Quicksilver'\n",
      "'Nova'\t'Quicksilver'\n",
      "'Galactus'\t'Quicksilver'\n",
      "'Black Bolt'\t'Quicksilver'\n",
      "'Northstar'\t'Quicksilver'\n",
      "'Silver Surfer'\t'Quicksilver'\n",
      "'Thor'\t'Quicksilver'\n",
      "'Quicksilver'\t'Dormammu'\n",
      "'Galactus'\t'Dormammu'\n",
      "'Thor'\t'Dormammu'\n",
      "'Silver Surfer'\t'Dormammu'\n",
      "'Galactus'\t'Ego'\n",
      "'Thor'\t'Ego'\n",
      "'Nova'\t'Ego'\n",
      "'Silver Surfer'\t'Ego'\n",
      "'Quicksilver'\t'Ego'\n",
      "'Black Bolt'\t'Nova'\n",
      "'Ego'\t'Nova'\n",
      "'Galactus'\t'Nova'\n",
      "'Silver Surfer'\t'Nova'\n",
      "'Quicksilver'\t'Nova'\n",
      "'Thor'\t'Nova'\n",
      "'Nova'\t'Black Bolt'\n",
      "'Galactus'\t'Black Bolt'\n",
      "'Quicksilver'\t'Black Bolt'\n",
      "'Thor'\t'Black Bolt'\n",
      "'Silver Surfer'\t'Black Bolt'\n",
      "'Galactus'\t'Northstar'\n",
      "'Thor'\t'Northstar'\n",
      "'Quicksilver'\t'Northstar'\n",
      "'Silver Surfer'\t'Stardust'\n",
      "'Galactus'\t'Stardust'\n"
     ]
    }
   ],
   "source": [
    "# Relations entre les super-héros\n",
    "import py2neo\n",
    "graph = py2neo.Graph(\"bolt://localhost:7687\", auth=(\"neo4j\", \"password_tuts\"), name=\"mcu\")\n",
    "\n",
    "query = \"\"\"MATCH (n:Superhero)-[r]-(m:Superhero)\n",
    "WHERE n.name IN ['Black Bolt', 'Stardust', 'Quicksilver', 'Nova', 'Thor', 'Silver Surfer', 'Galactus', 'Dormammu', 'Ego', 'Northstar']\n",
    "AND m.name IN ['Black Bolt', 'Stardust', 'Quicksilver', 'Nova', 'Thor', 'Silver Surfer', 'Galactus', 'Dormammu', 'Ego', 'Northstar']\n",
    "RETURN n.name, m.name\"\"\"\n",
    "\n",
    "results = graph.run(query)\n",
    "\n",
    "for record in results:\n",
    "    print(record)"
   ]
  },
  {
   "cell_type": "markdown",
   "id": "7293ec3f",
   "metadata": {},
   "source": [
    "2: How many have collaborated atleast more than 10 times with another superhero?"
   ]
  },
  {
   "cell_type": "code",
   "execution_count": 3,
   "id": "5f43a335",
   "metadata": {},
   "outputs": [
    {
     "name": "stdout",
     "output_type": "stream",
     "text": [
      "565 super héros ont collaboré plus de 10 fois avec un autre super héro\n"
     ]
    }
   ],
   "source": [
    "query = \"\"\"MATCH (a:Superhero)-[r:RELATION]-(b:Superhero)\n",
    "WHERE r.n_collab >= 10\n",
    "WITH a\n",
    "MATCH (a)-[r:RELATION]-(b:Superhero)\n",
    "WHERE r.n_collab >= 10\n",
    "RETURN COUNT(DISTINCT a)\"\"\"\n",
    "\n",
    "result = graph.run(query).evaluate()\n",
    "print(f\"{result} super héros ont collaboré plus de 10 fois avec un autre super héro\")"
   ]
  },
  {
   "cell_type": "markdown",
   "id": "6ad6a28f",
   "metadata": {},
   "source": [
    "3: Did the weakest of the MCU collaborated with the strongest ?"
   ]
  },
  {
   "cell_type": "code",
   "execution_count": 4,
   "id": "f0ea396e",
   "metadata": {},
   "outputs": [
    {
     "name": "stdout",
     "output_type": "stream",
     "text": [
      "Lady Deathstrike n'a pas collaboré avec Stardust\n"
     ]
    }
   ],
   "source": [
    "# Le plus faible\n",
    "query_weakest = \"\"\"MATCH (n:Superhero)\n",
    "WHERE (n.Total) IS NOT NULL\n",
    "RETURN n.name\n",
    "ORDER BY n.Total\n",
    "LIMIT 1\"\"\"\n",
    "result_weakest = graph.run(query_weakest).evaluate()\n",
    "\n",
    "# Le plus fort\n",
    "query_strongest = \"\"\"MATCH (n:Superhero)\n",
    "WHERE (n.Total) IS NOT NULL\n",
    "RETURN n.name\n",
    "ORDER BY n.Total DESC\n",
    "LIMIT 1\"\"\"\n",
    "result_strongest = graph.run(query_strongest).evaluate()\n",
    "\n",
    "# Chercher une éventuelle collaboration\n",
    "query_relation = f\"\"\"MATCH (a:Superhero {{name: \"{result_weakest}\"}})-[r:RELATION]-(b:Superhero {{name: \"{result_strongest}\"}})\n",
    "RETURN COUNT(r)\"\"\"\n",
    "result_relation = graph.run(query_relation).evaluate()\n",
    "\n",
    "if result_relation > 0:\n",
    "    print(f\"{result_weakest} a collaboré avec {result_strongest}\")\n",
    "else:\n",
    "    print(f\"{result_weakest} n'a pas collaboré avec {result_strongest}\")"
   ]
  },
  {
   "cell_type": "markdown",
   "id": "4db22452",
   "metadata": {},
   "source": [
    "4: Give a stats that interests you !\n",
    "Cherchons les 10 meilleurs héros au combat."
   ]
  },
  {
   "cell_type": "code",
   "execution_count": 5,
   "id": "f19378eb",
   "metadata": {},
   "outputs": [
    {
     "name": "stdout",
     "output_type": "stream",
     "text": [
      "'Ares'\t101\n",
      "'Black Panther'\t100\n",
      "'Captain America'\t100\n",
      "'Sabretooth'\t100\n",
      "'Black Widow'\t100\n",
      "'Nick Fury'\t100\n",
      "'Deadpool'\t100\n",
      "'Punisher'\t100\n",
      "'Wolverine'\t100\n",
      "'Shang-Chi'\t100\n"
     ]
    }
   ],
   "source": [
    "query = \"\"\"MATCH (n:Superhero)\n",
    "WHERE (n.Combat) IS NOT NULL\n",
    "RETURN n.name, n.Combat\n",
    "ORDER BY n.Combat DESC\n",
    "LIMIT 10\"\"\"\n",
    "\n",
    "results = graph.run(query)\n",
    "\n",
    "for record in results:\n",
    "    print(record)"
   ]
  },
  {
   "cell_type": "markdown",
   "id": "1d6b50e8",
   "metadata": {},
   "source": [
    "5: Create a new db called \"master\". Create a graph from the M1 class with name and random age between 20 and 30, Group of 3 that collab (undirected relation)."
   ]
  },
  {
   "cell_type": "code",
   "execution_count": 7,
   "id": "86be96cd",
   "metadata": {},
   "outputs": [],
   "source": [
    "import random\n",
    "\n",
    "graph = py2neo.Graph(\"bolt://localhost:7687\", auth=(\"neo4j\", \"password_tuts\"), name=\"master\")\n",
    "\n",
    "noms = ['A', 'B', 'C', 'D', 'E', 'F', 'G', 'H', 'I']\n",
    "personnes = [py2neo.Node(\"M1\", name=nom, age=random.randint(20, 30)) for nom in noms]\n",
    "\n",
    "for personne in personnes:\n",
    "    graph.create(personne)\n",
    "\n",
    "# Créer des groupes de 3 en supprimant à chaque fois les élèves dans les groupes formés (afin de ne pas avoir l'élève A dans 2 groupes)\n",
    "groupes = []\n",
    "while len(personnes) >= 3:\n",
    "    groupe = random.sample(personnes, 3)\n",
    "    groupes.append(groupe)\n",
    "    for personne in groupe:\n",
    "        personnes.remove(personne)\n",
    "\n",
    "for groupe in groupes:\n",
    "    for i, j in zip(groupe, groupe[1:] + [groupe[0]]):\n",
    "        relation = py2neo.Relationship(i, \"collab\", j)\n",
    "        graph.create(relation)"
   ]
  },
  {
   "cell_type": "markdown",
   "id": "b63f7667",
   "metadata": {},
   "source": [
    "6: Get the age for people YOU collaborate with."
   ]
  },
  {
   "cell_type": "code",
   "execution_count": 8,
   "id": "5a0f5e96",
   "metadata": {},
   "outputs": [
    {
     "name": "stdout",
     "output_type": "stream",
     "text": [
      " b.name | b.age \r\n",
      "--------|-------\r\n",
      " I      |    20 \r\n",
      " H      |    25 \r\n",
      "\n"
     ]
    }
   ],
   "source": [
    "query = \"\"\"MATCH (a:M1 {name:\"A\"})-[:collab]-(b:M1)\n",
    "RETURN b.name, b.age\"\"\"\n",
    "\n",
    "results = graph.run(query)\n",
    "print(results)"
   ]
  },
  {
   "cell_type": "markdown",
   "id": "174db3b3",
   "metadata": {},
   "source": [
    "7: Get nodes with age > 25."
   ]
  },
  {
   "cell_type": "code",
   "execution_count": 9,
   "id": "3e94a9e6",
   "metadata": {},
   "outputs": [
    {
     "name": "stdout",
     "output_type": "stream",
     "text": [
      "  a.name  a.age\n",
      "0      A     30\n",
      "1      C     29\n",
      "2      E     28\n",
      "3      G     27\n"
     ]
    }
   ],
   "source": [
    "query = \"\"\"MATCH (a:M1)\n",
    "WHERE a.age > 25\n",
    "RETURN a.name, a.age\"\"\"\n",
    "\n",
    "df = graph.run(query).to_data_frame()\n",
    "print(df)"
   ]
  },
  {
   "cell_type": "markdown",
   "id": "f3738335",
   "metadata": {},
   "source": [
    "# Real World Problem"
   ]
  },
  {
   "cell_type": "markdown",
   "id": "01ba5abc",
   "metadata": {},
   "source": [
    "8: Using the downloaded data in TODO 11 of chapter II, create a collaboration network between authors for papers after 2021 (same author if same name). Insert it in neo4j in a db called \"arxiv\"."
   ]
  },
  {
   "cell_type": "code",
   "execution_count": 15,
   "id": "cfe87f0d",
   "metadata": {},
   "outputs": [
    {
     "name": "stdout",
     "output_type": "stream",
     "text": [
      "Collaboration network created and inserted into Neo4j.\n"
     ]
    }
   ],
   "source": [
    "import json\n",
    "from py2neo import Graph, Node, Relationship\n",
    "\n",
    "# Chemin vers le fichier JSON\n",
    "json_file_path = \"C:/Users/celes/OneDrive/Documents/M1/S2/Infrastructures/NoSQL/data/Chap2/data_world.json\"\n",
    "\n",
    "# Connexion à la base de données Neo4j\n",
    "graph = Graph(\"bolt://localhost:7687\", auth=(\"neo4j\", \"password_tuts\"), name=\"arxiv\")\n",
    "\n",
    "# Charger les données JSON depuis le fichier\n",
    "with open(json_file_path, \"r\") as file:\n",
    "    data = json.load(file)\n",
    "\n",
    "# Démarrer une transaction\n",
    "tx = graph.begin()\n",
    "\n",
    "# Parcourir les données pour créer le réseau de collaboration\n",
    "for entry in data:\n",
    "    # Vérifier si l'article a une année de publication\n",
    "    if \"year\" in entry and entry[\"year\"] > 2021:\n",
    "        print(f\"Processing entry: {entry['title']}\")\n",
    "\n",
    "        # Récupérer les auteurs de l'article s'ils existent\n",
    "        if \"authors\" in entry:\n",
    "            authors = entry[\"authors\"]\n",
    "            print(f\"Authors: {authors}\")\n",
    "\n",
    "            # Créer des nœuds pour chaque auteur s'ils n'existent pas déjà\n",
    "            author_nodes = {}\n",
    "            for author in authors:\n",
    "                if author not in author_nodes:\n",
    "                    author_nodes[author] = Node(\"Author\", name=author)\n",
    "                    tx.merge(author_nodes[author], \"Author\", \"name\")\n",
    "                    print(f\"Node created for author: {author}\")\n",
    "\n",
    "            # Créer des relations de collaboration entre les auteurs\n",
    "            for i, author1 in enumerate(authors):\n",
    "                for j, author2 in enumerate(authors):\n",
    "                    if i != j:\n",
    "                        # Créer une relation de collaboration si elle n'existe pas déjà\n",
    "                        if not graph.exists(Relationship(author_nodes[author1], \"COLLAB\", author_nodes[author2])):\n",
    "                            tx.create(Relationship(author_nodes[author1], \"COLLAB\", author_nodes[author2]))\n",
    "                            print(f\"Collaboration relationship created between {author1} and {author2}\")\n",
    "\n",
    "# Valider la transaction (commit)\n",
    "graph.commit(tx)"
   ]
  },
  {
   "cell_type": "markdown",
   "id": "7333c442",
   "metadata": {},
   "source": [
    "9: Get the density of degrees of the collaboration network"
   ]
  },
  {
   "cell_type": "code",
   "execution_count": 17,
   "id": "c5944184",
   "metadata": {},
   "outputs": [
    {
     "ename": "IndexError",
     "evalue": "list index out of range",
     "output_type": "error",
     "traceback": [
      "\u001b[1;31m---------------------------------------------------------------------------\u001b[0m",
      "\u001b[1;31mIndexError\u001b[0m                                Traceback (most recent call last)",
      "Cell \u001b[1;32mIn[17], line 15\u001b[0m\n\u001b[0;32m      6\u001b[0m \u001b[38;5;66;03m# Requête pour compter le nombre de nœuds et le nombre de relations\u001b[39;00m\n\u001b[0;32m      7\u001b[0m query \u001b[38;5;241m=\u001b[39m \u001b[38;5;124m\"\"\"\u001b[39m\n\u001b[0;32m      8\u001b[0m \u001b[38;5;124mMATCH ()-[r:COLLAB]->()\u001b[39m\n\u001b[0;32m      9\u001b[0m \u001b[38;5;124mWITH COUNT(DISTINCT r) AS num_edges\u001b[39m\n\u001b[1;32m   (...)\u001b[0m\n\u001b[0;32m     12\u001b[0m \u001b[38;5;124mRETURN COUNT(DISTINCT a) AS num_nodes, num_edges\u001b[39m\n\u001b[0;32m     13\u001b[0m \u001b[38;5;124m\"\"\"\u001b[39m\n\u001b[1;32m---> 15\u001b[0m result \u001b[38;5;241m=\u001b[39m graph\u001b[38;5;241m.\u001b[39mrun(query)\u001b[38;5;241m.\u001b[39mdata()[\u001b[38;5;241m0\u001b[39m]\n\u001b[0;32m     16\u001b[0m num_nodes \u001b[38;5;241m=\u001b[39m result[\u001b[38;5;124m'\u001b[39m\u001b[38;5;124mnum_nodes\u001b[39m\u001b[38;5;124m'\u001b[39m]\n\u001b[0;32m     17\u001b[0m num_edges \u001b[38;5;241m=\u001b[39m result[\u001b[38;5;124m'\u001b[39m\u001b[38;5;124mnum_edges\u001b[39m\u001b[38;5;124m'\u001b[39m]\n",
      "\u001b[1;31mIndexError\u001b[0m: list index out of range"
     ]
    }
   ],
   "source": [
    "from py2neo import Graph\n",
    "\n",
    "# Connexion à la base de données Neo4j\n",
    "graph = Graph(\"bolt://localhost:7687\", auth=(\"neo4j\", \"password_tuts\"), name=\"arxiv\")\n",
    "\n",
    "# Requête pour compter le nombre de nœuds et le nombre de relations\n",
    "query = \"\"\"\n",
    "MATCH ()-[r:COLLAB]->()\n",
    "WITH COUNT(DISTINCT r) AS num_edges\n",
    "\n",
    "MATCH (a:Author)\n",
    "RETURN COUNT(DISTINCT a) AS num_nodes, num_edges\n",
    "\"\"\"\n",
    "\n",
    "result = graph.run(query).data()[0]\n",
    "num_nodes = result['num_nodes']\n",
    "num_edges = result['num_edges']\n",
    "\n",
    "# Calcul de la densité\n",
    "density = (2 * num_edges) / (num_nodes * (num_nodes - 1))\n",
    "\n",
    "print(f\"The density of the collaboration network is: {density}\")"
   ]
  },
  {
   "cell_type": "markdown",
   "id": "a8608afb",
   "metadata": {},
   "source": [
    "# Real World Application 3"
   ]
  },
  {
   "cell_type": "markdown",
   "id": "7812ed5c",
   "metadata": {},
   "source": [
    "1: Each paper has a list of author and affiliations. The first step is to create a node per author with a list of affiliation as attribute. If a name appears multiple times consider it as a single person. Create an edge between two authors if they are on the same paper. You can use any kind of operation to clean the data before inserting, you decide which preprocessing step is the most convenient."
   ]
  },
  {
   "cell_type": "code",
   "execution_count": 10,
   "id": "8e1b5937",
   "metadata": {},
   "outputs": [
    {
     "ename": "AttributeError",
     "evalue": "'str' object has no attribute 'get'",
     "output_type": "error",
     "traceback": [
      "\u001b[1;31m---------------------------------------------------------------------------\u001b[0m",
      "\u001b[1;31mAttributeError\u001b[0m                            Traceback (most recent call last)",
      "Cell \u001b[1;32mIn[10], line 40\u001b[0m\n\u001b[0;32m     38\u001b[0m \u001b[38;5;66;03m# Créer des relations entre les auteurs s'ils sont sur le même article\u001b[39;00m\n\u001b[0;32m     39\u001b[0m \u001b[38;5;28;01mfor\u001b[39;00m entry \u001b[38;5;129;01min\u001b[39;00m data:\n\u001b[1;32m---> 40\u001b[0m     authors \u001b[38;5;241m=\u001b[39m entry\u001b[38;5;241m.\u001b[39mget(\u001b[38;5;124m\"\u001b[39m\u001b[38;5;124mauthors\u001b[39m\u001b[38;5;124m\"\u001b[39m, \u001b[38;5;124m\"\u001b[39m\u001b[38;5;124m\"\u001b[39m)\u001b[38;5;241m.\u001b[39msplit(\u001b[38;5;124m\"\u001b[39m\u001b[38;5;124m, \u001b[39m\u001b[38;5;124m\"\u001b[39m)\n\u001b[0;32m     41\u001b[0m     \u001b[38;5;66;03m# Créer des relations entre chaque paire d'auteurs sur le même article\u001b[39;00m\n\u001b[0;32m     42\u001b[0m     \u001b[38;5;28;01mfor\u001b[39;00m i \u001b[38;5;129;01min\u001b[39;00m \u001b[38;5;28mrange\u001b[39m(\u001b[38;5;28mlen\u001b[39m(authors)):\n",
      "\u001b[1;31mAttributeError\u001b[0m: 'str' object has no attribute 'get'"
     ]
    }
   ],
   "source": [
    "import json\n",
    "from py2neo import Graph, Node, Relationship\n",
    "\n",
    "# Chemin vers le fichier JSON\n",
    "json_file_path = \"C:/Users/celes/OneDrive/Documents/M1/S2/Infrastructures/NoSQL/data/Chap3/pubmed_cleaned/pubmed_cleaned.json\"\n",
    "\n",
    "# Connexion à la base de données Neo4j\n",
    "graph = Graph(\"bolt://localhost:7687\", auth=(\"neo4j\", \"password_tuts\"), name=\"pubmedapp\")\n",
    "\n",
    "# Charger les données JSON depuis le fichier\n",
    "with open(json_file_path, \"r\") as file:\n",
    "    data = json.load(file)\n",
    "\n",
    "# Dictionnaire pour stocker les auteurs uniques et leurs affiliations\n",
    "authors_dict = {}\n",
    "\n",
    "# Parcourir les données pour extraire les auteurs et les affiliations\n",
    "for entry in data:\n",
    "    # Séparer les noms des auteurs en utilisant le séparateur \",\"\n",
    "    authors = entry.get(\"authors\", \"\").split(\", \")\n",
    "    affiliations = entry.get(\"affiliations\", \"\").split(\", \")\n",
    "    \n",
    "    # Traiter chaque nom d'auteur individuellement\n",
    "    for author, affiliation in zip(authors, affiliations):\n",
    "        # Si l'auteur n'existe pas dans le dictionnaire, le rajouter avec ses affiliations\n",
    "        if author not in authors_dict:\n",
    "            authors_dict[author] = {\"affiliations\": [affiliation]}\n",
    "        else:\n",
    "            # Si l'auteur existe déjà, ajouter l'affiliation s'il n'est pas déjà dans la liste\n",
    "            if affiliation not in authors_dict[author][\"affiliations\"]:\n",
    "                authors_dict[author][\"affiliations\"].append(affiliation)\n",
    "\n",
    "# Créer des nœuds pour chaque auteur avec une liste d'affiliations comme attribut\n",
    "for author, data in authors_dict.items():\n",
    "    node = Node(\"Author\", name=author, affiliations=data[\"affiliations\"])\n",
    "    graph.merge(node, \"Author\", \"name\")\n",
    "\n",
    "# Créer des relations entre les auteurs s'ils sont sur le même article\n",
    "for entry in data:\n",
    "    authors = entry.get(\"authors\", \"\").split(\", \")\n",
    "    # Créer des relations entre chaque paire d'auteurs sur le même article\n",
    "    for i in range(len(authors)):\n",
    "        for j in range(i+1, len(authors)):\n",
    "            graph.merge(Relationship(Node(\"Author\", name=authors[i]), \"COLLAB\", Node(\"Author\", name=authors[j])))"
   ]
  },
  {
   "cell_type": "markdown",
   "id": "898191dd",
   "metadata": {},
   "source": [
    "# Real World Application 4"
   ]
  },
  {
   "cell_type": "markdown",
   "id": "9329e13d",
   "metadata": {},
   "source": [
    "1: How many actors played in more than 2 movie ? Get their names and year they were born."
   ]
  },
  {
   "cell_type": "code",
   "execution_count": 23,
   "id": "8ae2e24b",
   "metadata": {},
   "outputs": [
    {
     "name": "stdout",
     "output_type": "stream",
     "text": [
      "Keanu Reeves 1964 7\n",
      "Carrie-Anne Moss 1967 3\n",
      "Laurence Fishburne 1961 3\n",
      "Hugo Weaving 1960 5\n",
      "Tom Cruise 1962 3\n",
      "Jack Nicholson 1937 5\n",
      "Kevin Bacon 1958 3\n",
      "Cuba Gooding Jr. 1968 4\n",
      "Meg Ryan 1961 5\n",
      "Helen Hunt 1963 3\n",
      "Robin Williams 1951 3\n",
      "Tom Hanks 1956 12\n",
      "Gene Hackman 1930 3\n",
      "Ben Miles 1967 3\n",
      "Bill Paxton 1955 3\n"
     ]
    }
   ],
   "source": [
    "import py2neo\n",
    "\n",
    "graph = py2neo.Graph(\"bolt://localhost:7687\", auth=(\"neo4j\", \"password_tuts\"), name=\"movie\")\n",
    "\n",
    "query = \"\"\"\n",
    "MATCH (actor:Person)-[:ACTED_IN]->(movie)\n",
    "WITH actor, COUNT(movie) AS movieCount\n",
    "WHERE movieCount > 2\n",
    "RETURN actor.name AS Name, actor.born AS YearOfBirth, movieCount AS MoviesPlayed\n",
    "\"\"\"\n",
    "\n",
    "result = graph.run(query)\n",
    "\n",
    "for record in result:\n",
    "    print(record[\"Name\"], record[\"YearOfBirth\"], record[\"MoviesPlayed\"])"
   ]
  },
  {
   "cell_type": "markdown",
   "id": "f319966b",
   "metadata": {},
   "source": [
    "2: In how many movies did Tom hanks play ?"
   ]
  },
  {
   "cell_type": "code",
   "execution_count": 27,
   "id": "5275137e",
   "metadata": {},
   "outputs": [
    {
     "name": "stdout",
     "output_type": "stream",
     "text": [
      "Tom Hanks a joué dans 12 films.\n"
     ]
    }
   ],
   "source": [
    "query = \"\"\"MATCH (p:Person {name: \"Tom Hanks\"})-[:ACTED_IN]->(m:Movie)\n",
    "RETURN COUNT(m) AS movieCount\"\"\"\n",
    "\n",
    "result = graph.run(query)\n",
    "movie_count = result.evaluate()\n",
    "\n",
    "print(\"Tom Hanks a joué dans\", movie_count, \"films.\")"
   ]
  },
  {
   "cell_type": "markdown",
   "id": "158d581e",
   "metadata": {},
   "source": [
    "3: In average in how many movies do actors play in ?"
   ]
  },
  {
   "cell_type": "code",
   "execution_count": 30,
   "id": "a0aca7fb",
   "metadata": {},
   "outputs": [
    {
     "name": "stdout",
     "output_type": "stream",
     "text": [
      "En moyenne, les acteurs jouent dans 1.64 films.\n"
     ]
    }
   ],
   "source": [
    "query = \"\"\"\n",
    "MATCH (p:Person)-[:ACTED_IN]->(m:Movie)\n",
    "WITH p, COUNT(DISTINCT m) AS movieCount\n",
    "RETURN AVG(movieCount) AS averageMovies\n",
    "\"\"\"\n",
    "\n",
    "result = graph.run(query)\n",
    "average_movies = result.evaluate()\n",
    "\n",
    "print(\"En moyenne, les acteurs jouent dans\", round(average_movies, 2), \"films.\")"
   ]
  },
  {
   "cell_type": "markdown",
   "id": "039eff6d",
   "metadata": {},
   "source": [
    "4: In average how many actors are there in a movie ?"
   ]
  },
  {
   "cell_type": "code",
   "execution_count": 32,
   "id": "fd787b2d",
   "metadata": {},
   "outputs": [
    {
     "name": "stdout",
     "output_type": "stream",
     "text": [
      "En moyenne, il y a 4.5 acteurs par film.\n"
     ]
    }
   ],
   "source": [
    "query = \"\"\"MATCH (m:Movie)\n",
    "RETURN AVG(size((:Person)-[:ACTED_IN]->(m))) AS averageActors\"\"\"\n",
    "\n",
    "result = graph.run(query)\n",
    "average_actors = result.evaluate()\n",
    "\n",
    "print(\"En moyenne, il y a\", average_actors, \"acteurs par film.\")"
   ]
  },
  {
   "cell_type": "markdown",
   "id": "985dc367",
   "metadata": {},
   "source": [
    "5: In average how many writers is needed to write a movie ?"
   ]
  },
  {
   "cell_type": "code",
   "execution_count": 40,
   "id": "b4250161",
   "metadata": {},
   "outputs": [
    {
     "name": "stdout",
     "output_type": "stream",
     "text": [
      "En moyenne, il faut 0.23 écrivains pour écrire un film.\n"
     ]
    }
   ],
   "source": [
    "query = \"\"\"\n",
    "MATCH (m:Movie)\n",
    "RETURN AVG(size((:Person)-[:WROTE]->(m))) AS averageWriters\n",
    "\"\"\"\n",
    "\n",
    "# Exécution de la requête\n",
    "result = graph.run(query).evaluate()\n",
    "\n",
    "print(\"En moyenne, il faut\", round(result, 2), \"écrivains pour écrire un film.\")"
   ]
  },
  {
   "cell_type": "markdown",
   "id": "c1e95e3e",
   "metadata": {},
   "source": [
    "6: What is the proportion of writers that also directed the movie ?"
   ]
  },
  {
   "cell_type": "code",
   "execution_count": 71,
   "id": "adc2da8c",
   "metadata": {},
   "outputs": [
    {
     "name": "stdout",
     "output_type": "stream",
     "text": [
      "The proportion of writers who also directed the movie is: 2\n"
     ]
    }
   ],
   "source": [
    "proportion_query = \"\"\"\n",
    "MATCH (p:Person)-[:WROTE]->(m:Movie)<-[:DIRECTED]-(p)\n",
    "WITH COUNT(DISTINCT p) AS writersDirectedAndWritten,\n",
    "     SIZE((p)-[:WROTE]->(:Movie)) AS totalWriters\n",
    "RETURN writersDirectedAndWritten / totalWriters AS proportion\n",
    "\"\"\"\n",
    "\n",
    "result = graph.run(proportion_query).evaluate()\n",
    "\n",
    "print(\"The proportion of writers who also directed the movie is:\", result)"
   ]
  },
  {
   "cell_type": "markdown",
   "id": "1ff37b4a",
   "metadata": {},
   "source": [
    "7: Do an histogram of the year of release for the movies."
   ]
  },
  {
   "cell_type": "code",
   "execution_count": 49,
   "id": "42592faf",
   "metadata": {},
   "outputs": [
    {
     "data": {
      "image/png": "[encoded data removed]",
      "text/plain": [
       "<Figure size 1000x600 with 1 Axes>"
      ]
     },
     "metadata": {},
     "output_type": "display_data"
    }
   ],
   "source": [
    "import matplotlib.pyplot as plt\n",
    "\n",
    "histogram_query = \"\"\"\n",
    "MATCH (m:Movie)\n",
    "WHERE EXISTS(m.released)\n",
    "RETURN toString(m.released) AS Year, COUNT(*) AS MovieCount\n",
    "ORDER BY Year\n",
    "\"\"\"\n",
    "\n",
    "result = graph.run(histogram_query).data()\n",
    "\n",
    "years = [record[\"Year\"] for record in result]\n",
    "movie_counts = [record[\"MovieCount\"] for record in result]\n",
    "\n",
    "plt.figure(figsize=(10, 6))\n",
    "plt.bar(years, movie_counts, color='skyblue')\n",
    "plt.xlabel('Year of Release')\n",
    "plt.ylabel('Number of Movies')\n",
    "plt.title('Histogram of Movie Release Years')\n",
    "plt.xticks(rotation=45)\n",
    "plt.grid(axis='y', linestyle='--', alpha=0.7)\n",
    "plt.tight_layout()\n",
    "plt.show()"
   ]
  },
  {
   "cell_type": "markdown",
   "id": "499d3dc3",
   "metadata": {},
   "source": [
    "8: Who are the 10 actors with the most movie played in"
   ]
  },
  {
   "cell_type": "code",
   "execution_count": 50,
   "id": "cdb95f1a",
   "metadata": {},
   "outputs": [
    {
     "name": "stdout",
     "output_type": "stream",
     "text": [
      "Tom Hanks : 12\n",
      "Keanu Reeves : 7\n",
      "Meg Ryan : 5\n",
      "Jack Nicholson : 5\n",
      "Hugo Weaving : 5\n",
      "Cuba Gooding Jr. : 4\n",
      "Kevin Bacon : 3\n",
      "Laurence Fishburne : 3\n",
      "Carrie-Anne Moss : 3\n",
      "Tom Cruise : 3\n"
     ]
    }
   ],
   "source": [
    "query = \"\"\"\n",
    "MATCH (a:Person)-[:ACTED_IN]->(m:Movie)\n",
    "RETURN a.name AS Actor, COUNT(m) AS MovieCount\n",
    "ORDER BY MovieCount DESC\n",
    "LIMIT 10\n",
    "\"\"\"\n",
    "\n",
    "result = graph.run(query).data()\n",
    "\n",
    "for record in result:\n",
    "    print(record[\"Actor\"], \":\", record[\"MovieCount\"])"
   ]
  },
  {
   "cell_type": "markdown",
   "id": "52b91cab",
   "metadata": {},
   "source": [
    "9: Delete every movie made by a director of your choosing"
   ]
  },
  {
   "cell_type": "code",
   "execution_count": 51,
   "id": "28dd0130",
   "metadata": {},
   "outputs": [],
   "source": [
    "query = \"\"\"\n",
    "MATCH (d:Person {name: 'Clint Eastwood'})-[:DIRECTED]->(m:Movie)\n",
    "RETURN m.title AS MovieTitle\n",
    "\"\"\"\n",
    "\n",
    "result = graph.run(query)\n",
    "\n",
    "# Suppression des relations et des nœuds associés\n",
    "for record in result:\n",
    "    movie_title = record[\"MovieTitle\"]\n",
    "    delete_query = \"\"\"\n",
    "    MATCH (:Person {name: 'Clint Eastwood'})-[:DIRECTED]->(m:Movie {title: $movieTitle})\n",
    "    DETACH DELETE m\n",
    "    \"\"\"\n",
    "    graph.run(delete_query, movieTitle=movie_title)"
   ]
  },
  {
   "cell_type": "markdown",
   "id": "48e7dfc8",
   "metadata": {},
   "source": [
    "10: Give some statistics that you find interesting."
   ]
  },
  {
   "cell_type": "code",
   "execution_count": 53,
   "id": "0aa45026",
   "metadata": {},
   "outputs": [
    {
     "data": {
      "image/png": "[encoded data removed]",
      "text/plain": [
       "<Figure size 800x600 with 1 Axes>"
      ]
     },
     "metadata": {},
     "output_type": "display_data"
    }
   ],
   "source": [
    "import matplotlib.pyplot as plt\n",
    "\n",
    "# Requête Cypher pour récupérer les taglines des films\n",
    "tagline_query = \"\"\"\n",
    "MATCH (m:Movie)\n",
    "WHERE EXISTS(m.tagline)\n",
    "RETURN COUNT(*) AS TaglineCount\n",
    "\"\"\"\n",
    "\n",
    "result = graph.run(tagline_query).data()\n",
    "\n",
    "tagline_count = result[0][\"TaglineCount\"]\n",
    "\n",
    "# Création d'un diagramme à secteurs pour visualiser la proportion de films avec des taglines\n",
    "plt.figure(figsize=(8, 6))\n",
    "plt.pie([tagline_count, 250 - tagline_count], labels=[\"Avec Tagline\", \"Sans Tagline\"], autopct='%1.1f%%', colors=['skyblue', 'lightcoral'])\n",
    "plt.title('Proportion de films avec des taglines')\n",
    "plt.axis('equal')\n",
    "plt.show()"
   ]
  },
  {
   "cell_type": "markdown",
   "id": "bd5dd0da",
   "metadata": {},
   "source": [
    "11: Sandbox exercise: think of a problematic and try to answer it.\n",
    "Cherchons le nombre de réalisateurs qui ont aussi joué au mois une fois dans un de leur propre film."
   ]
  },
  {
   "cell_type": "code",
   "execution_count": 72,
   "id": "15001d15",
   "metadata": {},
   "outputs": [
    {
     "name": "stdout",
     "output_type": "stream",
     "text": [
      "La proportion de directeurs ayant également joué dans leur propre film est de : 2\n"
     ]
    }
   ],
   "source": [
    "# Requête Cypher pour trouver la proportion de directeurs ayant également joué dans leur propre film\n",
    "proportion_query = \"\"\"\n",
    "MATCH (p:Person)-[:DIRECTED]->(m:Movie)<-[:ACTED_IN]-(p)\n",
    "WITH COUNT(DISTINCT p) AS directorsActed,\n",
    "     SIZE((p)-[:DIRECTED]->(:Movie)) AS totalDirectors\n",
    "RETURN directorsActed / totalDirectors AS proportion\n",
    "\"\"\"\n",
    "\n",
    "# Exécution de la requête et récupération du résultat\n",
    "result = graph.run(proportion_query).evaluate()\n",
    "\n",
    "# Affichage du résultat\n",
    "print(\"La proportion de directeurs ayant également joué dans leur propre film est de :\", result)"
   ]
  },
  {
   "cell_type": "markdown",
   "id": "11e23094",
   "metadata": {},
   "source": [
    "# Real World application 5"
   ]
  },
  {
   "cell_type": "code",
   "execution_count": 14,
   "id": "2a0a6079",
   "metadata": {},
   "outputs": [
    {
     "name": "stdout",
     "output_type": "stream",
     "text": [
      "Constraint already exists\n"
     ]
    },
    {
     "name": "stderr",
     "output_type": "stream",
     "text": [
      "100%|██████████| 6551/6551 [00:01<00:00, 3638.92it/s]\n"
     ]
    },
    {
     "data": {
      "text/html": [
       "(No data)"
      ],
      "text/plain": [
       "(No data)"
      ]
     },
     "execution_count": 14,
     "metadata": {},
     "output_type": "execute_result"
    }
   ],
   "source": [
    "import pandas as pd\n",
    "import tqdm\n",
    "from py2neo import Graph\n",
    "\n",
    "# Chemins d'accès aux fichiers CSV\n",
    "nodes_csv_file = \"C:/Users/celes/OneDrive/Documents/M1/S2/Infrastructures/NoSQL/data/Chap4/Homework_data/Twitch/FR_target.csv\"\n",
    "edges_csv_file = \"C:/Users/celes/OneDrive/Documents/M1/S2/Infrastructures/NoSQL/data/Chap4/Homework_data/Twitch/FR_edges.csv\"\n",
    "\n",
    "# Connexion à Neo4j\n",
    "graph = py2neo.Graph(\"bolt://localhost:7687\", auth=(\"neo4j\", \"password_tuts\"), name=\"Twitch\")\n",
    "\n",
    "# Suppression de toutes les données existantes dans la base de données\n",
    "graph.delete_all()\n",
    "\n",
    "# Création de la contrainte (si elle n'existe pas déjà)\n",
    "try:\n",
    "    graph.run(\"CREATE CONSTRAINT ON (n:TwitchUser) ASSERT n.user_id IS UNIQUE\")\n",
    "except:\n",
    "    print(\"Constraint already exists\")\n",
    "\n",
    "# Chargement des données des nœuds à partir du fichier CSV\n",
    "nodes_df = pd.read_csv(nodes_csv_file)\n",
    "\n",
    "# Initialisation de la liste des transactions\n",
    "transaction_list = []\n",
    "\n",
    "# Itération sur chaque ligne du DataFrame pour créer les nœuds\n",
    "for _, row in tqdm.tqdm(nodes_df.iterrows(), total=len(nodes_df)):\n",
    "    node_data = {key: str(row[key]) for key in row.keys()}\n",
    "    transaction_list.append(node_data)\n",
    "    # Commit lorsque la liste atteint 1000 éléments\n",
    "    if len(transaction_list) == 1000:\n",
    "        graph.run(\"UNWIND $json AS data CREATE (n:TwitchUser) SET n = data\", json=transaction_list)\n",
    "        transaction_list = []\n",
    "\n",
    "# Commit des transactions restantes\n",
    "graph.run(\"UNWIND $json AS data CREATE (n:TwitchUser) SET n = data\", json=transaction_list)"
   ]
  },
  {
   "cell_type": "code",
   "execution_count": 93,
   "id": "0e0b4d2e",
   "metadata": {},
   "outputs": [
    {
     "name": "stderr",
     "output_type": "stream",
     "text": [
      "100%|██████████| 112666/112666 [00:08<00:00, 13186.10it/s]\n"
     ]
    },
    {
     "data": {
      "text/html": [
       "(No data)"
      ],
      "text/plain": [
       "(No data)"
      ]
     },
     "execution_count": 93,
     "metadata": {},
     "output_type": "execute_result"
    }
   ],
   "source": [
    "# edges\n",
    "edges_df = pd.read_csv(edges_csv_file)\n",
    "\n",
    "# Initialisation de la liste des transactions\n",
    "transaction_list = []\n",
    "\n",
    "# Itération sur chaque ligne du DataFrame pour créer les relations\n",
    "for _, row in tqdm.tqdm(edges_df.iterrows(), total=len(edges_df)):\n",
    "    from_node = str(row['from'])\n",
    "    to_node = str(row['to'])\n",
    "    transaction_list.append({\"from\": from_node, \"to\": to_node})\n",
    "    # Commit lorsque la liste atteint 1000 éléments\n",
    "    if len(transaction_list) == 1000:\n",
    "        query = \"\"\"\n",
    "        UNWIND $json AS data\n",
    "        MATCH (a:TwitchUser {user_id: data.from}), (b:TwitchUser {user_id: data.to})\n",
    "        MERGE (a)-[:FOLLOWS]->(b)\n",
    "        \"\"\"\n",
    "        graph.run(query, json=transaction_list)\n",
    "        transaction_list = []\n",
    "\n",
    "# Commit des transactions restantes\n",
    "query = \"\"\"\n",
    "UNWIND $json AS data\n",
    "MATCH (a:TwitchUser {user_id: data.from}), (b:TwitchUser {user_id: data.to})\n",
    "MERGE (a)-[:FOLLOWS]->(b)\n",
    "\"\"\"\n",
    "graph.run(query, json=transaction_list)"
   ]
  },
  {
   "cell_type": "markdown",
   "id": "6014dbfd",
   "metadata": {},
   "source": [
    "J'ai eu beau tourner le code dans tous les sens, l'importation sur neo4j n'a pas fonctionné."
   ]
  },
  {
   "cell_type": "markdown",
   "id": "89caed90",
   "metadata": {},
   "source": [
    "1: Give the IDs of the top 10 streamers that have atleast one collaboration."
   ]
  },
  {
   "cell_type": "code",
   "execution_count": null,
   "id": "b671e6ca",
   "metadata": {},
   "outputs": [],
   "source": [
    "query = \"\"\"\n",
    "MATCH (u:TwitchUser)-[:INTERACTS]->(u2:TwitchUser)\n",
    "WITH u, COUNT(u2) AS collaborations\n",
    "WHERE collaborations > 0\n",
    "RETURN u.user_id AS streamer_id, collaborations\n",
    "ORDER BY collaborations DESC\n",
    "LIMIT 10\n",
    "\"\"\"\n",
    "\n",
    "results = graph.run(query)\n",
    "\n",
    "for record in results:\n",
    "    print(record[\"streamer_id\"], record[\"collaborations\"])"
   ]
  },
  {
   "cell_type": "markdown",
   "id": "765def4d",
   "metadata": {},
   "source": [
    "# Real World Application 6"
   ]
  },
  {
   "cell_type": "code",
   "execution_count": 24,
   "id": "73b64ed5",
   "metadata": {},
   "outputs": [],
   "source": [
    "import pandas as pd\n",
    "from py2neo import Graph, Node\n",
    "\n",
    "# Se connecter à Neo4j\n",
    "graph = Graph(\"bolt://localhost:7687\", auth=(\"neo4j\", \"password_tuts\"), name=\"stackoverflow\")\n",
    "\n",
    "# Chemin d'accès au fichier CSV contenant les nœuds\n",
    "nodes_csv_file = \"C:/Users/celes/OneDrive/Documents/M1/S2/Infrastructures/NoSQL/data/Chap4/Homework_data/stackoverflow_network/stack_network_nodes.csv\"\n",
    "\n",
    "# Lire le fichier CSV contenant les nœuds\n",
    "nodes_df = pd.read_csv(nodes_csv_file)\n",
    "\n",
    "# Créer les nœuds dans Neo4j\n",
    "for index, row in nodes_df.iterrows():\n",
    "    node = Node(row['name'], group=row['group'], nodesize=row['nodesize'])  # Assurez-vous d'adapter les noms de colonnes\n",
    "    graph.create(node)"
   ]
  },
  {
   "cell_type": "code",
   "execution_count": 25,
   "id": "3243bf16",
   "metadata": {},
   "outputs": [],
   "source": [
    "import pandas as pd\n",
    "from py2neo import Graph\n",
    "\n",
    "# Se connecter à Neo4j\n",
    "graph = Graph(\"bolt://localhost:7687\", auth=(\"neo4j\", \"password_tuts\"), name=\"stackoverflow\")\n",
    "\n",
    "# Chemin d'accès au fichier CSV contenant les relations\n",
    "edges_csv_file = \"C:/Users/celes/OneDrive/Documents/M1/S2/Infrastructures/NoSQL/data/Chap4/Homework_data/stackoverflow_network/stack_network_links.csv\"\n",
    "\n",
    "# Lire le fichier CSV contenant les relations\n",
    "edges_df = pd.read_csv(edges_csv_file)\n",
    "\n",
    "# Créer les relations dans Neo4j\n",
    "for index, row in edges_df.iterrows():\n",
    "    source = row['source']\n",
    "    target = row['target']\n",
    "    value = row['value']\n",
    "    \n",
    "    # Créer la relation dans Neo4j\n",
    "    query = f\"\"\"\n",
    "    MATCH (source {{ name: \"{source}\" }}), (target {{ name: \"{target}\" }})\n",
    "    CREATE (source)-[:RELATION {{ value: {value} }}]->(target)\n",
    "    \"\"\"\n",
    "    graph.run(query)"
   ]
  },
  {
   "cell_type": "markdown",
   "id": "53325990",
   "metadata": {},
   "source": [
    "1: What are the 10 most popular keywords ?"
   ]
  },
  {
   "cell_type": "code",
   "execution_count": 18,
   "id": "b3415a40",
   "metadata": {},
   "outputs": [],
   "source": [
    "import py2neo\n",
    "from py2neo import Graph\n",
    "\n",
    "# Se connecter à la base de données Neo4j\n",
    "graph = py2neo.Graph(\"bolt://localhost:7687\", auth=(\"neo4j\", \"password_tuts\"), name=\"stackoverflow\")\n",
    "\n",
    "# Requête Cypher pour compter le nombre d'occurrences de chaque mot-clé\n",
    "query = \"\"\"\n",
    "MATCH (n)\n",
    "WHERE EXISTS(n.keywords)\n",
    "UNWIND split(n.keywords, \"|\") AS keyword\n",
    "RETURN keyword, count(*) AS popularity\n",
    "ORDER BY popularity DESC\n",
    "LIMIT 10\n",
    "\"\"\"\n",
    "\n",
    "# Exécuter la requête et récupérer les résultats\n",
    "results = graph.run(query)\n",
    "\n",
    "# Afficher les résultats\n",
    "for record in results:\n",
    "    print(record[\"keyword\"], record[\"popularity\"])"
   ]
  }
 ],
 "metadata": {
  "kernelspec": {
   "display_name": "Python 3 (ipykernel)",
   "language": "python",
   "name": "python3"
  },
  "language_info": {
   "codemirror_mode": {
    "name": "ipython",
    "version": 3
   },
   "file_extension": ".py",
   "mimetype": "text/x-python",
   "name": "python",
   "nbconvert_exporter": "python",
   "pygments_lexer": "ipython3",
   "version": "3.11.5"
  }
 },
 "nbformat": 4,
 "nbformat_minor": 5
}
