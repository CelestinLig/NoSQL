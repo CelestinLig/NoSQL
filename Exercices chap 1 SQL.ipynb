{
 "cells": [
  {
   "cell_type": "code",
   "execution_count": null,
   "id": "8e889df4",
   "metadata": {},
   "outputs": [],
   "source": [
    "#SQLite"
   ]
  },
  {
   "cell_type": "code",
   "execution_count": 1,
   "id": "f6a7ea7f",
   "metadata": {
    "scrolled": false
   },
   "outputs": [
    {
     "data": {
      "text/html": [
       "<div>\n",
       "<style scoped>\n",
       "    .dataframe tbody tr th:only-of-type {\n",
       "        vertical-align: middle;\n",
       "    }\n",
       "\n",
       "    .dataframe tbody tr th {\n",
       "        vertical-align: top;\n",
       "    }\n",
       "\n",
       "    .dataframe thead th {\n",
       "        text-align: right;\n",
       "    }\n",
       "</style>\n",
       "<table border=\"1\" class=\"dataframe\">\n",
       "  <thead>\n",
       "    <tr style=\"text-align: right;\">\n",
       "      <th></th>\n",
       "      <th>id</th>\n",
       "      <th>diagnosis</th>\n",
       "      <th>radius_mean</th>\n",
       "      <th>texture_mean</th>\n",
       "      <th>perimeter_mean</th>\n",
       "      <th>area_mean</th>\n",
       "      <th>smoothness_mean</th>\n",
       "      <th>compactness_mean</th>\n",
       "      <th>concavity_mean</th>\n",
       "      <th>concave points_mean</th>\n",
       "      <th>...</th>\n",
       "      <th>texture_worst</th>\n",
       "      <th>perimeter_worst</th>\n",
       "      <th>area_worst</th>\n",
       "      <th>smoothness_worst</th>\n",
       "      <th>compactness_worst</th>\n",
       "      <th>concavity_worst</th>\n",
       "      <th>concave points_worst</th>\n",
       "      <th>symmetry_worst</th>\n",
       "      <th>fractal_dimension_worst</th>\n",
       "      <th>Unnamed: 32</th>\n",
       "    </tr>\n",
       "  </thead>\n",
       "  <tbody>\n",
       "    <tr>\n",
       "      <th>0</th>\n",
       "      <td>842302</td>\n",
       "      <td>M</td>\n",
       "      <td>17.99</td>\n",
       "      <td>10.38</td>\n",
       "      <td>122.80</td>\n",
       "      <td>1001.0</td>\n",
       "      <td>0.11840</td>\n",
       "      <td>0.27760</td>\n",
       "      <td>0.30010</td>\n",
       "      <td>0.14710</td>\n",
       "      <td>...</td>\n",
       "      <td>17.33</td>\n",
       "      <td>184.60</td>\n",
       "      <td>2019.0</td>\n",
       "      <td>0.16220</td>\n",
       "      <td>0.66560</td>\n",
       "      <td>0.7119</td>\n",
       "      <td>0.2654</td>\n",
       "      <td>0.4601</td>\n",
       "      <td>0.11890</td>\n",
       "      <td>NaN</td>\n",
       "    </tr>\n",
       "    <tr>\n",
       "      <th>1</th>\n",
       "      <td>842517</td>\n",
       "      <td>M</td>\n",
       "      <td>20.57</td>\n",
       "      <td>17.77</td>\n",
       "      <td>132.90</td>\n",
       "      <td>1326.0</td>\n",
       "      <td>0.08474</td>\n",
       "      <td>0.07864</td>\n",
       "      <td>0.08690</td>\n",
       "      <td>0.07017</td>\n",
       "      <td>...</td>\n",
       "      <td>23.41</td>\n",
       "      <td>158.80</td>\n",
       "      <td>1956.0</td>\n",
       "      <td>0.12380</td>\n",
       "      <td>0.18660</td>\n",
       "      <td>0.2416</td>\n",
       "      <td>0.1860</td>\n",
       "      <td>0.2750</td>\n",
       "      <td>0.08902</td>\n",
       "      <td>NaN</td>\n",
       "    </tr>\n",
       "    <tr>\n",
       "      <th>2</th>\n",
       "      <td>84300903</td>\n",
       "      <td>M</td>\n",
       "      <td>19.69</td>\n",
       "      <td>21.25</td>\n",
       "      <td>130.00</td>\n",
       "      <td>1203.0</td>\n",
       "      <td>0.10960</td>\n",
       "      <td>0.15990</td>\n",
       "      <td>0.19740</td>\n",
       "      <td>0.12790</td>\n",
       "      <td>...</td>\n",
       "      <td>25.53</td>\n",
       "      <td>152.50</td>\n",
       "      <td>1709.0</td>\n",
       "      <td>0.14440</td>\n",
       "      <td>0.42450</td>\n",
       "      <td>0.4504</td>\n",
       "      <td>0.2430</td>\n",
       "      <td>0.3613</td>\n",
       "      <td>0.08758</td>\n",
       "      <td>NaN</td>\n",
       "    </tr>\n",
       "    <tr>\n",
       "      <th>3</th>\n",
       "      <td>84348301</td>\n",
       "      <td>M</td>\n",
       "      <td>11.42</td>\n",
       "      <td>20.38</td>\n",
       "      <td>77.58</td>\n",
       "      <td>386.1</td>\n",
       "      <td>0.14250</td>\n",
       "      <td>0.28390</td>\n",
       "      <td>0.24140</td>\n",
       "      <td>0.10520</td>\n",
       "      <td>...</td>\n",
       "      <td>26.50</td>\n",
       "      <td>98.87</td>\n",
       "      <td>567.7</td>\n",
       "      <td>0.20980</td>\n",
       "      <td>0.86630</td>\n",
       "      <td>0.6869</td>\n",
       "      <td>0.2575</td>\n",
       "      <td>0.6638</td>\n",
       "      <td>0.17300</td>\n",
       "      <td>NaN</td>\n",
       "    </tr>\n",
       "    <tr>\n",
       "      <th>4</th>\n",
       "      <td>84358402</td>\n",
       "      <td>M</td>\n",
       "      <td>20.29</td>\n",
       "      <td>14.34</td>\n",
       "      <td>135.10</td>\n",
       "      <td>1297.0</td>\n",
       "      <td>0.10030</td>\n",
       "      <td>0.13280</td>\n",
       "      <td>0.19800</td>\n",
       "      <td>0.10430</td>\n",
       "      <td>...</td>\n",
       "      <td>16.67</td>\n",
       "      <td>152.20</td>\n",
       "      <td>1575.0</td>\n",
       "      <td>0.13740</td>\n",
       "      <td>0.20500</td>\n",
       "      <td>0.4000</td>\n",
       "      <td>0.1625</td>\n",
       "      <td>0.2364</td>\n",
       "      <td>0.07678</td>\n",
       "      <td>NaN</td>\n",
       "    </tr>\n",
       "    <tr>\n",
       "      <th>...</th>\n",
       "      <td>...</td>\n",
       "      <td>...</td>\n",
       "      <td>...</td>\n",
       "      <td>...</td>\n",
       "      <td>...</td>\n",
       "      <td>...</td>\n",
       "      <td>...</td>\n",
       "      <td>...</td>\n",
       "      <td>...</td>\n",
       "      <td>...</td>\n",
       "      <td>...</td>\n",
       "      <td>...</td>\n",
       "      <td>...</td>\n",
       "      <td>...</td>\n",
       "      <td>...</td>\n",
       "      <td>...</td>\n",
       "      <td>...</td>\n",
       "      <td>...</td>\n",
       "      <td>...</td>\n",
       "      <td>...</td>\n",
       "      <td>...</td>\n",
       "    </tr>\n",
       "    <tr>\n",
       "      <th>564</th>\n",
       "      <td>926424</td>\n",
       "      <td>M</td>\n",
       "      <td>21.56</td>\n",
       "      <td>22.39</td>\n",
       "      <td>142.00</td>\n",
       "      <td>1479.0</td>\n",
       "      <td>0.11100</td>\n",
       "      <td>0.11590</td>\n",
       "      <td>0.24390</td>\n",
       "      <td>0.13890</td>\n",
       "      <td>...</td>\n",
       "      <td>26.40</td>\n",
       "      <td>166.10</td>\n",
       "      <td>2027.0</td>\n",
       "      <td>0.14100</td>\n",
       "      <td>0.21130</td>\n",
       "      <td>0.4107</td>\n",
       "      <td>0.2216</td>\n",
       "      <td>0.2060</td>\n",
       "      <td>0.07115</td>\n",
       "      <td>NaN</td>\n",
       "    </tr>\n",
       "    <tr>\n",
       "      <th>565</th>\n",
       "      <td>926682</td>\n",
       "      <td>M</td>\n",
       "      <td>20.13</td>\n",
       "      <td>28.25</td>\n",
       "      <td>131.20</td>\n",
       "      <td>1261.0</td>\n",
       "      <td>0.09780</td>\n",
       "      <td>0.10340</td>\n",
       "      <td>0.14400</td>\n",
       "      <td>0.09791</td>\n",
       "      <td>...</td>\n",
       "      <td>38.25</td>\n",
       "      <td>155.00</td>\n",
       "      <td>1731.0</td>\n",
       "      <td>0.11660</td>\n",
       "      <td>0.19220</td>\n",
       "      <td>0.3215</td>\n",
       "      <td>0.1628</td>\n",
       "      <td>0.2572</td>\n",
       "      <td>0.06637</td>\n",
       "      <td>NaN</td>\n",
       "    </tr>\n",
       "    <tr>\n",
       "      <th>566</th>\n",
       "      <td>926954</td>\n",
       "      <td>M</td>\n",
       "      <td>16.60</td>\n",
       "      <td>28.08</td>\n",
       "      <td>108.30</td>\n",
       "      <td>858.1</td>\n",
       "      <td>0.08455</td>\n",
       "      <td>0.10230</td>\n",
       "      <td>0.09251</td>\n",
       "      <td>0.05302</td>\n",
       "      <td>...</td>\n",
       "      <td>34.12</td>\n",
       "      <td>126.70</td>\n",
       "      <td>1124.0</td>\n",
       "      <td>0.11390</td>\n",
       "      <td>0.30940</td>\n",
       "      <td>0.3403</td>\n",
       "      <td>0.1418</td>\n",
       "      <td>0.2218</td>\n",
       "      <td>0.07820</td>\n",
       "      <td>NaN</td>\n",
       "    </tr>\n",
       "    <tr>\n",
       "      <th>567</th>\n",
       "      <td>927241</td>\n",
       "      <td>M</td>\n",
       "      <td>20.60</td>\n",
       "      <td>29.33</td>\n",
       "      <td>140.10</td>\n",
       "      <td>1265.0</td>\n",
       "      <td>0.11780</td>\n",
       "      <td>0.27700</td>\n",
       "      <td>0.35140</td>\n",
       "      <td>0.15200</td>\n",
       "      <td>...</td>\n",
       "      <td>39.42</td>\n",
       "      <td>184.60</td>\n",
       "      <td>1821.0</td>\n",
       "      <td>0.16500</td>\n",
       "      <td>0.86810</td>\n",
       "      <td>0.9387</td>\n",
       "      <td>0.2650</td>\n",
       "      <td>0.4087</td>\n",
       "      <td>0.12400</td>\n",
       "      <td>NaN</td>\n",
       "    </tr>\n",
       "    <tr>\n",
       "      <th>568</th>\n",
       "      <td>92751</td>\n",
       "      <td>B</td>\n",
       "      <td>7.76</td>\n",
       "      <td>24.54</td>\n",
       "      <td>47.92</td>\n",
       "      <td>181.0</td>\n",
       "      <td>0.05263</td>\n",
       "      <td>0.04362</td>\n",
       "      <td>0.00000</td>\n",
       "      <td>0.00000</td>\n",
       "      <td>...</td>\n",
       "      <td>30.37</td>\n",
       "      <td>59.16</td>\n",
       "      <td>268.6</td>\n",
       "      <td>0.08996</td>\n",
       "      <td>0.06444</td>\n",
       "      <td>0.0000</td>\n",
       "      <td>0.0000</td>\n",
       "      <td>0.2871</td>\n",
       "      <td>0.07039</td>\n",
       "      <td>NaN</td>\n",
       "    </tr>\n",
       "  </tbody>\n",
       "</table>\n",
       "<p>569 rows × 33 columns</p>\n",
       "</div>"
      ],
      "text/plain": [
       "           id diagnosis  radius_mean  texture_mean  perimeter_mean  area_mean  \\\n",
       "0      842302         M        17.99         10.38          122.80     1001.0   \n",
       "1      842517         M        20.57         17.77          132.90     1326.0   \n",
       "2    84300903         M        19.69         21.25          130.00     1203.0   \n",
       "3    84348301         M        11.42         20.38           77.58      386.1   \n",
       "4    84358402         M        20.29         14.34          135.10     1297.0   \n",
       "..        ...       ...          ...           ...             ...        ...   \n",
       "564    926424         M        21.56         22.39          142.00     1479.0   \n",
       "565    926682         M        20.13         28.25          131.20     1261.0   \n",
       "566    926954         M        16.60         28.08          108.30      858.1   \n",
       "567    927241         M        20.60         29.33          140.10     1265.0   \n",
       "568     92751         B         7.76         24.54           47.92      181.0   \n",
       "\n",
       "     smoothness_mean  compactness_mean  concavity_mean  concave points_mean  \\\n",
       "0            0.11840           0.27760         0.30010              0.14710   \n",
       "1            0.08474           0.07864         0.08690              0.07017   \n",
       "2            0.10960           0.15990         0.19740              0.12790   \n",
       "3            0.14250           0.28390         0.24140              0.10520   \n",
       "4            0.10030           0.13280         0.19800              0.10430   \n",
       "..               ...               ...             ...                  ...   \n",
       "564          0.11100           0.11590         0.24390              0.13890   \n",
       "565          0.09780           0.10340         0.14400              0.09791   \n",
       "566          0.08455           0.10230         0.09251              0.05302   \n",
       "567          0.11780           0.27700         0.35140              0.15200   \n",
       "568          0.05263           0.04362         0.00000              0.00000   \n",
       "\n",
       "     ...  texture_worst  perimeter_worst  area_worst  smoothness_worst  \\\n",
       "0    ...          17.33           184.60      2019.0           0.16220   \n",
       "1    ...          23.41           158.80      1956.0           0.12380   \n",
       "2    ...          25.53           152.50      1709.0           0.14440   \n",
       "3    ...          26.50            98.87       567.7           0.20980   \n",
       "4    ...          16.67           152.20      1575.0           0.13740   \n",
       "..   ...            ...              ...         ...               ...   \n",
       "564  ...          26.40           166.10      2027.0           0.14100   \n",
       "565  ...          38.25           155.00      1731.0           0.11660   \n",
       "566  ...          34.12           126.70      1124.0           0.11390   \n",
       "567  ...          39.42           184.60      1821.0           0.16500   \n",
       "568  ...          30.37            59.16       268.6           0.08996   \n",
       "\n",
       "     compactness_worst  concavity_worst  concave points_worst  symmetry_worst  \\\n",
       "0              0.66560           0.7119                0.2654          0.4601   \n",
       "1              0.18660           0.2416                0.1860          0.2750   \n",
       "2              0.42450           0.4504                0.2430          0.3613   \n",
       "3              0.86630           0.6869                0.2575          0.6638   \n",
       "4              0.20500           0.4000                0.1625          0.2364   \n",
       "..                 ...              ...                   ...             ...   \n",
       "564            0.21130           0.4107                0.2216          0.2060   \n",
       "565            0.19220           0.3215                0.1628          0.2572   \n",
       "566            0.30940           0.3403                0.1418          0.2218   \n",
       "567            0.86810           0.9387                0.2650          0.4087   \n",
       "568            0.06444           0.0000                0.0000          0.2871   \n",
       "\n",
       "     fractal_dimension_worst  Unnamed: 32  \n",
       "0                    0.11890          NaN  \n",
       "1                    0.08902          NaN  \n",
       "2                    0.08758          NaN  \n",
       "3                    0.17300          NaN  \n",
       "4                    0.07678          NaN  \n",
       "..                       ...          ...  \n",
       "564                  0.07115          NaN  \n",
       "565                  0.06637          NaN  \n",
       "566                  0.07820          NaN  \n",
       "567                  0.12400          NaN  \n",
       "568                  0.07039          NaN  \n",
       "\n",
       "[569 rows x 33 columns]"
      ]
     },
     "execution_count": 1,
     "metadata": {},
     "output_type": "execute_result"
    }
   ],
   "source": [
    "#1: Read all the data from bc.csv, how many rows is there ? Columns ?\n",
    "import pandas as pd\n",
    "\n",
    "df = pd.read_csv(\"C:/Users/celes/OneDrive/Documents/M1/S2/Infrastructures/NoSQL/data/Chap1/bc.csv\")\n",
    "df\n",
    "#569 lignes et 33 colonnes"
   ]
  },
  {
   "cell_type": "code",
   "execution_count": 2,
   "id": "8e49e71d",
   "metadata": {
    "scrolled": true
   },
   "outputs": [
    {
     "name": "stdout",
     "output_type": "stream",
     "text": [
      "[(842517, 'M', 20.57, 17.77, 132.9, 1326.0, 0.08474, 0.07864, 0.0869, 0.07017, 0.1812, 0.05667, 0.5435, 0.7339, 3.398, 74.08, 0.005225, 0.01308, 0.0186, 0.0134, 0.01389, 0.003532, 24.99, 23.41, 158.8, 1956.0, 0.1238, 0.1866, 0.2416, 0.186, 0.275, 0.08902, None), (851509, 'M', 21.16, 23.04, 137.2, 1404.0, 0.09428, 0.1022, 0.1097, 0.08632, 0.1769, 0.05278, 0.6917, 1.127, 4.303, 93.99, 0.004728, 0.01259, 0.01715, 0.01038, 0.01083, 0.001987, 29.17, 35.59, 188.0, 2615.0, 0.1401, 0.26, 0.3155, 0.2009, 0.2822, 0.07526, None), (8611555, 'M', 25.22, 24.91, 171.5, 1878.0, 0.1063, 0.2665, 0.3339, 0.1845, 0.1829, 0.06782, 0.8973, 1.474, 7.382, 120.0, 0.008166, 0.05693, 0.0573, 0.0203, 0.01065, 0.005893, 30.0, 33.62, 211.7, 2562.0, 0.1573, 0.6076, 0.6476, 0.2867, 0.2355, 0.1051, None), (86355, 'M', 22.27, 19.67, 152.8, 1509.0, 0.1326, 0.2768, 0.4264, 0.1823, 0.2556, 0.07039, 1.215, 1.545, 10.05, 170.0, 0.006515, 0.08668, 0.104, 0.0248, 0.03112, 0.005037, 28.4, 28.01, 206.8, 2360.0, 0.1701, 0.6997, 0.9608, 0.291, 0.4055, 0.09789, None), (865423, 'M', 24.25, 20.2, 166.2, 1761.0, 0.1447, 0.2867, 0.4268, 0.2012, 0.2655, 0.06877, 1.509, 3.12, 9.807, 233.0, 0.02333, 0.09806, 0.1278, 0.01822, 0.04547, 0.009875, 26.02, 23.99, 180.9, 2073.0, 0.1696, 0.4244, 0.5803, 0.2248, 0.3222, 0.08009, None), (8712289, 'M', 23.27, 22.04, 152.1, 1686.0, 0.08439, 0.1145, 0.1324, 0.09702, 0.1801, 0.05553, 0.6642, 0.8561, 4.603, 97.85, 0.00491, 0.02544, 0.02822, 0.01623, 0.01956, 0.00374, 28.01, 28.22, 184.2, 2403.0, 0.1228, 0.3583, 0.3948, 0.2346, 0.3589, 0.09187, None), (873592, 'M', 27.22, 21.87, 182.1, 2250.0, 0.1094, 0.1914, 0.2871, 0.1878, 0.18, 0.0577, 0.8361, 1.481, 5.82, 128.7, 0.004631, 0.02537, 0.03109, 0.01241, 0.01575, 0.002747, 33.12, 32.85, 220.8, 3216.0, 0.1472, 0.4034, 0.534, 0.2688, 0.2856, 0.08082, None), (873593, 'M', 21.09, 26.57, 142.7, 1311.0, 0.1141, 0.2832, 0.2487, 0.1496, 0.2395, 0.07398, 0.6298, 0.7629, 4.414, 81.46, 0.004253, 0.04759, 0.03872, 0.01567, 0.01798, 0.005295, 26.68, 33.48, 176.5, 2089.0, 0.1491, 0.7584, 0.678, 0.2903, 0.4098, 0.1284, None), (878796, 'M', 23.29, 26.67, 158.9, 1685.0, 0.1141, 0.2084, 0.3523, 0.162, 0.22, 0.06229, 0.5539, 1.56, 4.667, 83.16, 0.009327, 0.05121, 0.08958, 0.02465, 0.02175, 0.005195, 25.12, 32.68, 177.0, 1986.0, 0.1536, 0.4167, 0.7892, 0.2733, 0.3198, 0.08762, None), (8810703, 'M', 28.11, 18.47, 188.5, 2499.0, 0.1142, 0.1516, 0.3201, 0.1595, 0.1648, 0.05525, 2.873, 1.476, 21.98, 525.6, 0.01345, 0.02772, 0.06389, 0.01407, 0.04783, 0.004476, 28.11, 18.47, 188.5, 2499.0, 0.1142, 0.1516, 0.3201, 0.1595, 0.1648, 0.05525, None), (88206102, 'M', 20.51, 27.81, 134.4, 1319.0, 0.09159, 0.1074, 0.1554, 0.0834, 0.1448, 0.05592, 0.524, 1.189, 3.767, 70.01, 0.00502, 0.02062, 0.03457, 0.01091, 0.01298, 0.002887, 24.47, 37.38, 162.7, 1872.0, 0.1223, 0.2761, 0.4146, 0.1563, 0.2437, 0.08328, None), (88299702, 'M', 23.21, 26.97, 153.5, 1670.0, 0.09509, 0.1682, 0.195, 0.1237, 0.1909, 0.06309, 1.058, 0.9635, 7.247, 155.8, 0.006428, 0.02863, 0.04497, 0.01716, 0.0159, 0.003053, 31.01, 34.51, 206.0, 2944.0, 0.1481, 0.4126, 0.582, 0.2593, 0.3103, 0.08677, None), (883263, 'M', 20.48, 21.46, 132.5, 1306.0, 0.08355, 0.08348, 0.09042, 0.06022, 0.1467, 0.05177, 0.6874, 1.041, 5.144, 83.5, 0.007959, 0.03133, 0.04257, 0.01671, 0.01341, 0.003933, 24.22, 26.17, 161.7, 1750.0, 0.1228, 0.2311, 0.3158, 0.1445, 0.2238, 0.07127, None), (884948, 'M', 20.94, 23.56, 138.9, 1364.0, 0.1007, 0.1606, 0.2712, 0.131, 0.2205, 0.05898, 1.004, 0.8208, 6.372, 137.9, 0.005283, 0.03908, 0.09518, 0.01864, 0.02401, 0.005002, 25.58, 27.0, 165.3, 2010.0, 0.1211, 0.3172, 0.6991, 0.2105, 0.3126, 0.07849, None), (88995002, 'M', 20.73, 31.12, 135.7, 1419.0, 0.09469, 0.1143, 0.1367, 0.08646, 0.1769, 0.05674, 1.172, 1.617, 7.749, 199.7, 0.004551, 0.01478, 0.02143, 0.00928, 0.01367, 0.002299, 32.49, 47.16, 214.0, 3432.0, 0.1401, 0.2644, 0.3442, 0.1659, 0.2868, 0.08218, None), (8910988, 'M', 21.75, 20.99, 147.3, 1491.0, 0.09401, 0.1961, 0.2195, 0.1088, 0.1721, 0.06194, 1.167, 1.352, 8.867, 156.8, 0.005687, 0.0496, 0.06329, 0.01561, 0.01924, 0.004614, 28.19, 28.18, 195.9, 2384.0, 0.1272, 0.4725, 0.5807, 0.1841, 0.2833, 0.08858, None), (89812, 'M', 23.51, 24.27, 155.1, 1747.0, 0.1069, 0.1283, 0.2308, 0.141, 0.1797, 0.05506, 1.009, 0.9245, 6.462, 164.1, 0.006292, 0.01971, 0.03582, 0.01301, 0.01479, 0.003118, 30.67, 30.73, 202.4, 2906.0, 0.1515, 0.2678, 0.4819, 0.2089, 0.2593, 0.07738, None), (899987, 'M', 25.73, 17.46, 174.2, 2010.0, 0.1149, 0.2363, 0.3368, 0.1913, 0.1956, 0.06121, 0.9948, 0.8509, 7.222, 153.1, 0.006369, 0.04243, 0.04266, 0.01508, 0.02335, 0.003385, 33.13, 23.58, 229.3, 3234.0, 0.153, 0.5937, 0.6451, 0.2756, 0.369, 0.08815, None), (9011971, 'M', 21.71, 17.25, 140.9, 1546.0, 0.09384, 0.08562, 0.1168, 0.08465, 0.1717, 0.05054, 1.207, 1.051, 7.733, 224.1, 0.005568, 0.01112, 0.02096, 0.01197, 0.01263, 0.001803, 30.75, 26.44, 199.5, 3143.0, 0.1363, 0.1628, 0.2861, 0.182, 0.251, 0.06494, None), (9012000, 'M', 22.01, 21.9, 147.2, 1482.0, 0.1063, 0.1954, 0.2448, 0.1501, 0.1824, 0.0614, 1.008, 0.6999, 7.561, 130.2, 0.003978, 0.02821, 0.03576, 0.01471, 0.01518, 0.003796, 27.66, 25.8, 195.0, 2227.0, 0.1294, 0.3885, 0.4756, 0.2432, 0.2741, 0.08574, None), (9012795, 'M', 21.37, 15.1, 141.3, 1386.0, 0.1001, 0.1515, 0.1932, 0.1255, 0.1973, 0.06183, 0.3414, 1.309, 2.407, 39.06, 0.004426, 0.02675, 0.03437, 0.01343, 0.01675, 0.004367, 22.69, 21.84, 152.1, 1535.0, 0.1192, 0.284, 0.4024, 0.1966, 0.273, 0.08666, None), (901288, 'M', 20.64, 17.35, 134.8, 1335.0, 0.09446, 0.1076, 0.1527, 0.08941, 0.1571, 0.05478, 0.6137, 0.6575, 4.119, 77.02, 0.006211, 0.01895, 0.02681, 0.01232, 0.01276, 0.001711, 25.37, 23.17, 166.8, 1946.0, 0.1562, 0.3055, 0.4159, 0.2112, 0.2689, 0.07055, None), (903516, 'M', 21.61, 22.28, 144.4, 1407.0, 0.1167, 0.2087, 0.281, 0.1562, 0.2162, 0.06606, 0.6242, 0.9209, 4.158, 80.99, 0.005215, 0.03726, 0.04718, 0.01288, 0.02045, 0.004028, 26.23, 28.74, 172.0, 2081.0, 0.1502, 0.5717, 0.7053, 0.2422, 0.3828, 0.1007, None), (911157302, 'M', 21.1, 20.52, 138.1, 1384.0, 0.09684, 0.1175, 0.1572, 0.1155, 0.1554, 0.05661, 0.6643, 1.361, 4.542, 81.89, 0.005467, 0.02075, 0.03185, 0.01466, 0.01029, 0.002205, 25.68, 32.07, 168.2, 2022.0, 0.1368, 0.3101, 0.4399, 0.228, 0.2268, 0.07425, None), (911296202, 'M', 27.42, 26.27, 186.9, 2501.0, 0.1084, 0.1988, 0.3635, 0.1689, 0.2061, 0.05623, 2.547, 1.306, 18.65, 542.2, 0.00765, 0.05374, 0.08055, 0.02598, 0.01697, 0.004558, 36.04, 31.37, 251.2, 4254.0, 0.1357, 0.4256, 0.6833, 0.2625, 0.2641, 0.07427, None), (91485, 'M', 20.59, 21.24, 137.8, 1320.0, 0.1085, 0.1644, 0.2188, 0.1121, 0.1848, 0.06222, 0.5904, 1.216, 4.206, 75.09, 0.006666, 0.02791, 0.04062, 0.01479, 0.01117, 0.003727, 23.86, 30.76, 163.2, 1760.0, 0.1464, 0.3597, 0.5179, 0.2113, 0.248, 0.08999, None), (915143, 'M', 23.09, 19.83, 152.1, 1682.0, 0.09342, 0.1275, 0.1676, 0.1003, 0.1505, 0.05484, 1.291, 0.7452, 9.635, 180.2, 0.005753, 0.03356, 0.03976, 0.02156, 0.02201, 0.002897, 30.79, 23.87, 211.5, 2782.0, 0.1199, 0.3625, 0.3794, 0.2264, 0.2908, 0.07277, None), (91762702, 'M', 24.63, 21.6, 165.5, 1841.0, 0.103, 0.2106, 0.231, 0.1471, 0.1991, 0.06739, 0.9915, 0.9004, 7.05, 139.9, 0.004989, 0.03212, 0.03571, 0.01597, 0.01879, 0.00476, 29.92, 26.93, 205.7, 2642.0, 0.1342, 0.4188, 0.4658, 0.2475, 0.3157, 0.09671, None), (919555, 'M', 20.55, 20.86, 137.8, 1308.0, 0.1046, 0.1739, 0.2085, 0.1322, 0.2127, 0.06251, 0.6986, 0.9901, 4.706, 87.78, 0.004578, 0.02616, 0.04005, 0.01421, 0.01948, 0.002689, 24.3, 25.48, 160.2, 1809.0, 0.1268, 0.3135, 0.4433, 0.2148, 0.3077, 0.07569, None), (926125, 'M', 20.92, 25.09, 143.0, 1347.0, 0.1099, 0.2236, 0.3174, 0.1474, 0.2149, 0.06879, 0.9622, 1.026, 8.758, 118.8, 0.006399, 0.0431, 0.07845, 0.02624, 0.02057, 0.006213, 24.29, 29.41, 179.1, 1819.0, 0.1407, 0.4186, 0.6599, 0.2542, 0.2929, 0.09873, None), (926424, 'M', 21.56, 22.39, 142.0, 1479.0, 0.111, 0.1159, 0.2439, 0.1389, 0.1726, 0.05623, 1.176, 1.256, 7.673, 158.7, 0.0103, 0.02891, 0.05198, 0.02454, 0.01114, 0.004239, 25.45, 26.4, 166.1, 2027.0, 0.141, 0.2113, 0.4107, 0.2216, 0.206, 0.07115, None)]\n"
     ]
    }
   ],
   "source": [
    "# 2: Insert the bc.csv in the sqlite format.\n",
    "import sqlite3\n",
    "\n",
    "conn = sqlite3.connect('C:/Users/celes/OneDrive/Documents/M1/S2/Infrastructures/NoSQL/data/Chap1/bc.db')\n",
    "\n",
    "# Insérez le DataFrame dans la table de la base de données SQLite\n",
    "df.to_sql('bc_table', conn, if_exists='replace', index=False)\n",
    "\n",
    "c = conn.cursor()\n",
    "\n",
    "#Test\n",
    "c.execute(\"\"\"SELECT * FROM bc_table WHERE \"area_mean\" > 1300\"\"\")\n",
    "\n",
    "docs = c.fetchall()\n",
    "print(docs)"
   ]
  },
  {
   "cell_type": "code",
   "execution_count": 5,
   "id": "e465cf3b",
   "metadata": {},
   "outputs": [],
   "source": [
    "# 3: In the same db create a new table called tomatch with two variables id_ and rdm_float.\n",
    "import sqlite3\n",
    "\n",
    "# Connexion à la base de données SQLite\n",
    "conn = sqlite3.connect('C:/Users/celes/OneDrive/Documents/M1/S2/Infrastructures/NoSQL/data/Chap1/bc.db')\n",
    "c = conn.cursor()\n",
    "\n",
    "# Insérez le DataFrame dans la table de la base de données SQLite\n",
    "df.to_sql('bc_table', conn, if_exists='replace', index=False)\n",
    "\n",
    "# Fonction pour créer la table \"tomatch\"\n",
    "def create_table_tomatch():\n",
    "    try:\n",
    "        c.execute(\"\"\"CREATE TABLE IF NOT EXISTS tomatch (\n",
    "                     id_ INTEGER PRIMARY KEY,\n",
    "                     rdm_float REAL\n",
    "                     )\"\"\")\n",
    "        # Création d'un index sur la colonne \"id_\" pour améliorer les performances des opérations de recherche\n",
    "        c.execute(\"CREATE INDEX IF NOT EXISTS fast_id_tomatch ON tomatch(id_)\")\n",
    "        conn.commit()\n",
    "    except Exception as e:\n",
    "        print(str(e))\n",
    "\n",
    "# Appel de la fonction pour créer la table \"tomatch\"\n",
    "create_table_tomatch()"
   ]
  },
  {
   "cell_type": "code",
   "execution_count": 7,
   "id": "cb46807b",
   "metadata": {},
   "outputs": [],
   "source": [
    "# 4: In the table tomatch insert observations where the id_ starts from 50k, ends at 10000000 and is only even numbers. rdm_float is a random float for each observation.\n",
    "import random\n",
    "\n",
    "start_id = 50000\n",
    "end_id = 10000000\n",
    "\n",
    "for id_ in range(start_id, end_id + 1, 2):\n",
    "    rdm_float = random.uniform(0, 1)\n",
    "    \n",
    "    c.execute(\"INSERT INTO tomatch (id_, rdm_float) VALUES (?, ?)\", (id_, rdm_float))\n",
    "\n",
    "conn.commit()"
   ]
  },
  {
   "cell_type": "code",
   "execution_count": 12,
   "id": "8f66fbd3",
   "metadata": {},
   "outputs": [
    {
     "name": "stdout",
     "output_type": "stream",
     "text": [
      "(879830, 'M', 17.01, 20.26, 109.7, 904.3, 0.08772, 0.07304, 0.0695, 0.0539, 0.2026, 0.05223, 0.5858, 0.8554, 4.106, 68.46, 0.005038, 0.01503, 0.01946, 0.01123, 0.02294, 0.002581, 19.8, 25.05, 130.0, 1210.0, 0.1111, 0.1486, 0.1932, 0.1096, 0.3275, 0.06469, None, 0.002040086880798375, 243, 121.29516971905103, 0.49915707703313184, 0.9969561167446959, 0.002040086880798375)\n"
     ]
    }
   ],
   "source": [
    "# 5: Do an Inner join between the two tables and compute the different aggregate functions on a column of your choice.\n",
    "\n",
    "c.execute(\"\"\"\n",
    "          SELECT\n",
    "              bc_table.*,  \n",
    "              tomatch.rdm_float,\n",
    "              COUNT(tomatch.id_) AS count_tomatch,  \n",
    "              SUM(tomatch.rdm_float) AS sum_rdm_float,  \n",
    "              AVG(tomatch.rdm_float) AS avg_rdm_float,  \n",
    "              MAX(tomatch.rdm_float) AS max_rdm_float,  \n",
    "              MIN(tomatch.rdm_float) AS min_rdm_float   \n",
    "          FROM\n",
    "              bc_table\n",
    "          INNER JOIN\n",
    "              tomatch ON bc_table.id = tomatch.id_\n",
    "          \"\"\")\n",
    "\n",
    "results = c.fetchall()\n",
    "\n",
    "for row in results:\n",
    "    print(row)"
   ]
  },
  {
   "cell_type": "code",
   "execution_count": 20,
   "id": "a7313b51",
   "metadata": {},
   "outputs": [
    {
     "name": "stdout",
     "output_type": "stream",
     "text": [
      "Radius moyen supérieur à 15 : 173\n",
      "Radius moyen supérieur à 15 ET texture moyenne supérieure à 20 : 106\n"
     ]
    }
   ],
   "source": [
    "# 6: How many observations have a radius_mean greater than 15 ? From them how many have a texture_mean greater than 20 ?\n",
    "\n",
    "c.execute(\"SELECT COUNT(*) FROM bc_table WHERE radius_mean > 15\")\n",
    "\n",
    "count_radius_mean_gt_15 = c.fetchone()[0]\n",
    "\n",
    "print(\"Radius moyen supérieur à 15 :\", count_radius_mean_gt_15)\n",
    "\n",
    "c.execute(\"SELECT COUNT(*) FROM bc_table WHERE radius_mean > 15 AND texture_mean > 20\")\n",
    "\n",
    "count_both_gt_15_20 = c.fetchone()[0]\n",
    "\n",
    "print(\"Radius moyen supérieur à 15 ET texture moyenne supérieure à 20 :\", count_both_gt_15_20)"
   ]
  },
  {
   "cell_type": "code",
   "execution_count": 21,
   "id": "fb952e7a",
   "metadata": {},
   "outputs": [
    {
     "name": "stdout",
     "output_type": "stream",
     "text": [
      "Diagnosis: B\n",
      "Average radius_mean: 12.15\n",
      "Average texture_mean: 17.91\n",
      "\n",
      "Diagnosis: M\n",
      "Average radius_mean: 17.46\n",
      "Average texture_mean: 21.6\n",
      "\n",
      "Difference in average radius_mean between the two groups: -5.3100000000000005\n",
      "Difference in average texture_mean between the two groups: -3.6900000000000013\n"
     ]
    }
   ],
   "source": [
    "# 7: For each category in diagnosis do the mean of a variable and round it to get only 2 numbers after the comma. Compute the difference between the mean of both groups\n",
    "# Exécuter une requête SQL pour calculer la moyenne de la variable souhaitée pour chaque catégorie de diagnostic\n",
    "c.execute(\"\"\"\n",
    "          SELECT\n",
    "              diagnosis,\n",
    "              ROUND(AVG(radius_mean), 2) AS avg_radius_mean,  -- Moyenne arrondie de radius_mean avec 2 chiffres après la virgule\n",
    "              ROUND(AVG(texture_mean), 2) AS avg_texture_mean   -- Moyenne arrondie de texture_mean avec 2 chiffres après la virgule\n",
    "          FROM\n",
    "              bc_table\n",
    "          GROUP BY\n",
    "              diagnosis\n",
    "          \"\"\")\n",
    "\n",
    "# Récupérer les résultats de la requête\n",
    "results = c.fetchall()\n",
    "\n",
    "# Afficher les résultats\n",
    "for row in results:\n",
    "    print(\"Diagnosis:\", row[0])\n",
    "    print(\"Average radius_mean:\", row[1])\n",
    "    print(\"Average texture_mean:\", row[2])\n",
    "    print()\n",
    "\n",
    "# Calculer la différence entre les moyennes des deux groupes\n",
    "diff_avg_radius_mean = results[0][1] - results[1][1]\n",
    "diff_avg_texture_mean = results[0][2] - results[1][2]\n",
    "\n",
    "print(\"Difference in average radius_mean between the two groups:\", diff_avg_radius_mean)\n",
    "print(\"Difference in average texture_mean between the two groups:\", diff_avg_texture_mean)"
   ]
  },
  {
   "cell_type": "code",
   "execution_count": 22,
   "id": "3d917221",
   "metadata": {},
   "outputs": [],
   "source": [
    "# 8: Change the name of the column \"diagnosis\" to \"label\"\n",
    "c.execute(\"ALTER TABLE bc_table RENAME COLUMN diagnosis TO label\")\n",
    "\n",
    "conn.commit()"
   ]
  },
  {
   "cell_type": "code",
   "execution_count": 23,
   "id": "547bdf1e",
   "metadata": {},
   "outputs": [],
   "source": [
    "# 9: Add a column named \"day\" of type DATE.\n",
    "c.execute(\"ALTER TABLE bc_table ADD COLUMN day DATE\")\n",
    "\n",
    "conn.commit()"
   ]
  },
  {
   "cell_type": "code",
   "execution_count": 24,
   "id": "beae2fc4",
   "metadata": {},
   "outputs": [],
   "source": [
    "# 10: Change the type of the column \"area_mean\" to int (hint, not possible on sqlite, create a new column)\n",
    "c.execute(\"ALTER TABLE bc_table ADD COLUMN area_mean_new INTEGER\")\n",
    "\n",
    "c.execute(\"UPDATE bc_table SET area_mean_new = CAST(area_mean AS INTEGER)\")\n",
    "\n",
    "c.execute(\"ALTER TABLE bc_table DROP COLUMN area_mean\")\n",
    "\n",
    "c.execute(\"ALTER TABLE bc_table RENAME COLUMN area_mean_new TO area_mean\")\n",
    "\n",
    "conn.commit()"
   ]
  },
  {
   "cell_type": "code",
   "execution_count": 26,
   "id": "1ce0d54e",
   "metadata": {},
   "outputs": [
    {
     "name": "stdout",
     "output_type": "stream",
     "text": [
      "(0, 'id', 'INTEGER', 0, None, 0)\n",
      "(1, 'label', 'TEXT', 0, None, 0)\n",
      "(2, 'radius_mean', 'REAL', 0, None, 0)\n",
      "(3, 'texture_mean', 'REAL', 0, None, 0)\n",
      "(4, 'perimeter_mean', 'REAL', 0, None, 0)\n",
      "(5, 'smoothness_mean', 'REAL', 0, None, 0)\n",
      "(6, 'compactness_mean', 'REAL', 0, None, 0)\n",
      "(7, 'concavity_mean', 'REAL', 0, None, 0)\n",
      "(8, 'concave points_mean', 'REAL', 0, None, 0)\n",
      "(9, 'symmetry_mean', 'REAL', 0, None, 0)\n",
      "(10, 'fractal_dimension_mean', 'REAL', 0, None, 0)\n",
      "(11, 'radius_se', 'REAL', 0, None, 0)\n",
      "(12, 'texture_se', 'REAL', 0, None, 0)\n",
      "(13, 'perimeter_se', 'REAL', 0, None, 0)\n",
      "(14, 'area_se', 'REAL', 0, None, 0)\n",
      "(15, 'smoothness_se', 'REAL', 0, None, 0)\n",
      "(16, 'compactness_se', 'REAL', 0, None, 0)\n",
      "(17, 'concavity_se', 'REAL', 0, None, 0)\n",
      "(18, 'concave points_se', 'REAL', 0, None, 0)\n",
      "(19, 'symmetry_se', 'REAL', 0, None, 0)\n",
      "(20, 'fractal_dimension_se', 'REAL', 0, None, 0)\n",
      "(21, 'radius_worst', 'REAL', 0, None, 0)\n",
      "(22, 'texture_worst', 'REAL', 0, None, 0)\n",
      "(23, 'perimeter_worst', 'REAL', 0, None, 0)\n",
      "(24, 'area_worst', 'REAL', 0, None, 0)\n",
      "(25, 'smoothness_worst', 'REAL', 0, None, 0)\n",
      "(26, 'compactness_worst', 'REAL', 0, None, 0)\n",
      "(27, 'concavity_worst', 'REAL', 0, None, 0)\n",
      "(28, 'concave points_worst', 'REAL', 0, None, 0)\n",
      "(29, 'symmetry_worst', 'REAL', 0, None, 0)\n",
      "(30, 'fractal_dimension_worst', 'REAL', 0, None, 0)\n",
      "(31, 'Unnamed: 32', 'REAL', 0, None, 0)\n",
      "(32, 'day', 'DATE', 0, None, 0)\n",
      "(33, 'area_mean', 'INTEGER', 0, None, 0)\n"
     ]
    }
   ],
   "source": [
    "# Histoire de s'assurer que tout cela a bien fonctionné :\n",
    "c.execute(\"PRAGMA table_info(bc_table)\")\n",
    "\n",
    "columns_info = c.fetchall()\n",
    "\n",
    "for column_info in columns_info:\n",
    "    print(column_info)"
   ]
  },
  {
   "cell_type": "code",
   "execution_count": 29,
   "id": "734fe263",
   "metadata": {},
   "outputs": [
    {
     "ename": "OperationalError",
     "evalue": "table tomatch2 already exists",
     "output_type": "error",
     "traceback": [
      "\u001b[1;31m---------------------------------------------------------------------------\u001b[0m",
      "\u001b[1;31mOperationalError\u001b[0m                          Traceback (most recent call last)",
      "Cell \u001b[1;32mIn[29], line 2\u001b[0m\n\u001b[0;32m      1\u001b[0m \u001b[38;5;66;03m# 11: create a new table called tomatch2 exactly the same way as tomatch except you increment id_ by 10.\u001b[39;00m\n\u001b[1;32m----> 2\u001b[0m c\u001b[38;5;241m.\u001b[39mexecute(\u001b[38;5;124m\"\"\"\u001b[39m\n\u001b[0;32m      3\u001b[0m \u001b[38;5;124m          CREATE TABLE tomatch2 AS\u001b[39m\n\u001b[0;32m      4\u001b[0m \u001b[38;5;124m          SELECT id_ + 10 AS id_, rdm_float\u001b[39m\n\u001b[0;32m      5\u001b[0m \u001b[38;5;124m          FROM tomatch\u001b[39m\n\u001b[0;32m      6\u001b[0m \u001b[38;5;124m          \u001b[39m\u001b[38;5;124m\"\"\"\u001b[39m)\n\u001b[0;32m      8\u001b[0m conn\u001b[38;5;241m.\u001b[39mcommit()\n\u001b[0;32m     10\u001b[0m results \u001b[38;5;241m=\u001b[39m c\u001b[38;5;241m.\u001b[39mfetchall()\n",
      "\u001b[1;31mOperationalError\u001b[0m: table tomatch2 already exists"
     ]
    }
   ],
   "source": [
    "# 11: create a new table called tomatch2 exactly the same way as tomatch except you increment id_ by 10.\n",
    "c.execute(\"\"\"\n",
    "          CREATE TABLE tomatch2 AS\n",
    "          SELECT id_ + 10 AS id_, rdm_float\n",
    "          FROM tomatch\n",
    "          \"\"\")\n",
    "\n",
    "conn.commit()"
   ]
  },
  {
   "cell_type": "code",
   "execution_count": 33,
   "id": "e27a5b3a",
   "metadata": {
    "scrolled": false
   },
   "outputs": [
    {
     "name": "stdout",
     "output_type": "stream",
     "text": [
      "(87164, 'M', 15.46, 11.89, 102.5, 0.1257, 0.1555, 0.2032, 0.1097, 0.1966, 0.07069, 0.4209, 0.6583, 2.805, 44.64, 0.005393, 0.02321, 0.04303, 0.0132, 0.01792, 0.004168, 18.79, 17.04, 125.0, 1102.0, 0.1531, 0.3583, 0.583, 0.1827, 0.3216, 0.101, None, None, 736, 87164, 0.6465870278133737, 87164, 0.5321297082203661)\n",
      "(89122, 'M', 19.4, 18.18, 127.2, 0.1037, 0.1442, 0.1626, 0.09464, 0.1893, 0.05892, 0.4709, 0.9951, 2.903, 53.16, 0.005654, 0.02199, 0.03059, 0.01499, 0.01623, 0.001965, 23.79, 28.65, 152.4, 1628.0, 0.1518, 0.3749, 0.4316, 0.2252, 0.359, 0.07787, None, None, 1145, 89122, 0.6824121234777615, 89122, 0.6639319076071202)\n",
      "(90312, 'M', 19.55, 23.21, 128.9, 0.101, 0.1318, 0.1856, 0.1021, 0.1989, 0.05884, 0.6107, 2.836, 5.383, 70.1, 0.01124, 0.04097, 0.07469, 0.03441, 0.02768, 0.00624, 20.82, 30.44, 142.0, 1313.0, 0.1251, 0.2414, 0.3829, 0.1825, 0.2576, 0.07602, None, None, 1174, 90312, 0.5202827589892343, 90312, 0.9553715195488964)\n",
      "(845636, 'M', 16.02, 23.24, 102.7, 0.08206, 0.06669, 0.03299, 0.03323, 0.1528, 0.05697, 0.3795, 1.187, 2.466, 40.51, 0.004029, 0.009269, 0.01101, 0.007591, 0.0146, 0.003042, 19.19, 33.88, 123.8, 1150.0, 0.1181, 0.1551, 0.1459, 0.09975, 0.2948, 0.08452, None, None, 797, 845636, 0.5342712934607052, 845636, 0.6116406396725731)\n",
      "(846226, 'M', 19.17, 24.8, 132.4, 0.0974, 0.2458, 0.2065, 0.1118, 0.2397, 0.078, 0.9555, 3.568, 11.07, 116.2, 0.003139, 0.08297, 0.0889, 0.0409, 0.04484, 0.01284, 20.96, 29.94, 151.7, 1332.0, 0.1037, 0.3903, 0.3639, 0.1767, 0.3176, 0.1023, None, None, 1123, 846226, 0.7015429330025367, 846226, 0.9840505979962334)\n",
      "(866674, 'M', 19.79, 25.12, 130.4, 0.1015, 0.1589, 0.2545, 0.1149, 0.2202, 0.06113, 0.4953, 1.199, 2.765, 63.33, 0.005033, 0.03179, 0.04755, 0.01043, 0.01578, 0.003224, 22.63, 33.58, 148.7, 1589.0, 0.1275, 0.3861, 0.5673, 0.1732, 0.3305, 0.08465, None, None, 1192, 866674, 0.7902435427850235, 866674, 0.6306173479283096)\n",
      "(869104, 'M', 16.11, 18.05, 105.1, 0.09721, 0.1137, 0.09447, 0.05943, 0.1861, 0.06248, 0.7049, 1.332, 4.533, 74.08, 0.00677, 0.01938, 0.03067, 0.01167, 0.01875, 0.003434, 19.92, 25.27, 129.0, 1233.0, 0.1314, 0.2236, 0.2802, 0.1216, 0.2792, 0.08158, None, None, 813, 869104, 0.6422941632103566, 869104, 0.6845030896102193)\n",
      "(873592, 'M', 27.22, 21.87, 182.1, 0.1094, 0.1914, 0.2871, 0.1878, 0.18, 0.0577, 0.8361, 1.481, 5.82, 128.7, 0.004631, 0.02537, 0.03109, 0.01241, 0.01575, 0.002747, 33.12, 32.85, 220.8, 3216.0, 0.1472, 0.4034, 0.534, 0.2688, 0.2856, 0.08082, None, None, 2250, 873592, 0.5436218496332055, 873592, 0.6368088639889683)\n",
      "(888264, 'M', 17.35, 23.06, 111.0, 0.08662, 0.0629, 0.02891, 0.02837, 0.1564, 0.05307, 0.4007, 1.317, 2.577, 44.41, 0.005726, 0.01106, 0.01246, 0.007671, 0.01411, 0.001578, 19.85, 31.47, 128.2, 1218.0, 0.124, 0.1486, 0.1211, 0.08235, 0.2452, 0.06515, None, None, 933, 888264, 0.8458483558318678, 888264, 0.6004891829436859)\n",
      "(888570, 'M', 17.29, 22.13, 114.4, 0.08999, 0.1273, 0.09697, 0.07507, 0.2108, 0.05464, 0.8348, 1.633, 6.146, 90.94, 0.006717, 0.05981, 0.04638, 0.02149, 0.02747, 0.005838, 20.39, 27.24, 137.9, 1295.0, 0.1134, 0.2867, 0.2298, 0.1528, 0.3067, 0.07484, None, None, 947, 888570, 0.9548633819400916, 888570, 0.9403921966396741)\n",
      "(894326, 'M', 18.22, 18.87, 118.7, 0.09746, 0.1117, 0.113, 0.0795, 0.1807, 0.05664, 0.4041, 0.5503, 2.547, 48.9, 0.004821, 0.01659, 0.02408, 0.01143, 0.01275, 0.002451, 21.84, 25.0, 140.9, 1485.0, 0.1434, 0.2763, 0.3853, 0.1776, 0.2812, 0.08198, None, None, 1027, 894326, 0.9042122445404515, 894326, 0.6386154896717585)\n",
      "(895100, 'M', 20.34, 21.51, 135.9, 0.117, 0.1875, 0.2565, 0.1504, 0.2569, 0.0667, 0.5702, 1.023, 4.012, 69.06, 0.005485, 0.02431, 0.0319, 0.01369, 0.02768, 0.003345, 25.3, 31.86, 171.1, 1938.0, 0.1592, 0.4492, 0.5344, 0.2685, 0.5558, 0.1024, None, None, 1264, 895100, 0.7904146869181504, 895100, 0.8954982297323425)\n",
      "(901288, 'M', 20.64, 17.35, 134.8, 0.09446, 0.1076, 0.1527, 0.08941, 0.1571, 0.05478, 0.6137, 0.6575, 4.119, 77.02, 0.006211, 0.01895, 0.02681, 0.01232, 0.01276, 0.001711, 25.37, 23.17, 166.8, 1946.0, 0.1562, 0.3055, 0.4159, 0.2112, 0.2689, 0.07055, None, None, 1335, 901288, 0.5699402413456754, 901288, 0.7958730003193509)\n",
      "(905680, 'M', 15.13, 29.81, 96.71, 0.0832, 0.04605, 0.04686, 0.02739, 0.1852, 0.05294, 0.4681, 1.627, 3.043, 45.38, 0.006831, 0.01427, 0.02489, 0.009087, 0.03151, 0.00175, 17.26, 36.91, 110.1, 931.4, 0.1148, 0.09866, 0.1547, 0.06575, 0.3233, 0.06165, None, None, 719, 905680, 0.9610041914876014, 905680, 0.7849337416627297)\n",
      "(911916, 'M', 16.25, 19.51, 109.8, 0.1026, 0.1893, 0.2236, 0.09194, 0.2151, 0.06578, 0.3147, 0.9857, 3.07, 33.12, 0.009197, 0.0547, 0.08079, 0.02215, 0.02773, 0.006355, 17.39, 23.05, 122.1, 939.7, 0.1377, 0.4462, 0.5897, 0.1775, 0.3318, 0.09136, None, None, 815, 911916, 0.5162859540170294, 911916, 0.7808986652284449)\n",
      "(916838, 'M', 19.89, 20.26, 130.5, 0.1037, 0.131, 0.1411, 0.09431, 0.1802, 0.06188, 0.5079, 0.8737, 3.654, 59.7, 0.005089, 0.02303, 0.03052, 0.01178, 0.01057, 0.003391, 23.73, 25.23, 160.5, 1646.0, 0.1417, 0.3309, 0.4185, 0.1613, 0.2549, 0.09136, None, None, 1214, 916838, 0.6809893405838088, 916838, 0.9223408634908652)\n",
      "(8711202, 'M', 17.68, 20.74, 117.4, 0.1115, 0.1665, 0.1855, 0.1054, 0.1971, 0.06166, 0.8113, 1.4, 5.54, 93.91, 0.009037, 0.04954, 0.05206, 0.01841, 0.01778, 0.004968, 20.47, 25.11, 132.9, 1302.0, 0.1418, 0.3498, 0.3583, 0.1515, 0.2463, 0.07738, None, None, 963, 8711202, 0.9803652735693155, 8711202, 0.9125075797742438)\n",
      "(8711216, 'B', 16.84, 19.46, 108.4, 0.07445, 0.07223, 0.0515, 0.02771, 0.1844, 0.05268, 0.4789, 2.06, 3.479, 46.61, 0.003443, 0.02661, 0.03056, 0.0111, 0.0152, 0.001519, 18.22, 28.07, 120.3, 1032.0, 0.08774, 0.171, 0.1882, 0.08436, 0.2527, 0.05972, None, None, 880, 8711216, 0.7753142715004009, 8711216, 0.5126613061585106)\n",
      "(8811842, 'M', 19.8, 21.56, 129.7, 0.09383, 0.1306, 0.1272, 0.08691, 0.2094, 0.05581, 0.9553, 1.186, 6.487, 124.4, 0.006804, 0.03169, 0.03446, 0.01712, 0.01897, 0.004045, 25.73, 28.64, 170.3, 2009.0, 0.1353, 0.3235, 0.3617, 0.182, 0.307, 0.08255, None, None, 1230, 8811842, 0.570340843133322, 8811842, 0.7515397208680102)\n",
      "(8911670, 'M', 18.81, 19.98, 120.9, 0.08923, 0.05884, 0.0802, 0.05843, 0.155, 0.04996, 0.3283, 0.828, 2.363, 36.74, 0.007571, 0.01114, 0.02623, 0.01463, 0.0193, 0.001676, 19.96, 24.3, 129.0, 1236.0, 0.1243, 0.116, 0.221, 0.1294, 0.2567, 0.05737, None, None, 1102, 8911670, 0.7096754145592024, 8911670, 0.946784941284013)\n",
      "(8912280, 'M', 16.24, 18.77, 108.8, 0.1066, 0.1802, 0.1948, 0.09052, 0.1876, 0.06684, 0.2873, 0.9173, 2.464, 28.09, 0.004563, 0.03481, 0.03872, 0.01209, 0.01388, 0.004081, 18.55, 25.09, 126.9, 1031.0, 0.1365, 0.4706, 0.5026, 0.1732, 0.277, 0.1063, None, None, 805, 8912280, 0.5149932282387193, 8912280, 0.7043291189657042)\n",
      "(9010872, 'B', 16.5, 18.29, 106.6, 0.09686, 0.08468, 0.05862, 0.04835, 0.1495, 0.05593, 0.3389, 1.439, 2.344, 33.58, 0.007257, 0.01805, 0.01832, 0.01033, 0.01694, 0.002001, 18.13, 25.45, 117.2, 1009.0, 0.1338, 0.1679, 0.1663, 0.09123, 0.2394, 0.06469, None, None, 838, 9010872, 0.5814274719872755, 9010872, 0.7492857716758748)\n",
      "(9113538, 'M', 17.6, 23.33, 119.0, 0.09289, 0.2004, 0.2136, 0.1002, 0.1696, 0.07369, 0.9289, 1.465, 5.801, 104.9, 0.006766, 0.07025, 0.06591, 0.02311, 0.01673, 0.0113, 21.57, 28.87, 143.6, 1437.0, 0.1207, 0.4785, 0.5165, 0.1996, 0.2301, 0.1224, None, None, 980, 9113538, 0.6256058429157735, 9113538, 0.8284823755184753)\n"
     ]
    }
   ],
   "source": [
    "# 12: Do an inner join of bc, tomatch and tomatch2 where the radius_mean is greater than 15, and the rdm_float is greater than 0.50 in tomatch AND tomatch2.\n",
    "# Exécuter une requête SQL pour effectuer une jointure interne des tables \"bc\", \"tomatch\" et \"tomatch2\" avec les conditions spécifiées\n",
    "c.execute(\"\"\"\n",
    "          SELECT *\n",
    "          FROM bc_table\n",
    "          INNER JOIN tomatch ON bc_table.id = tomatch.id_\n",
    "          INNER JOIN tomatch2 ON bc_table.id = tomatch2.id_\n",
    "          WHERE bc_table.radius_mean > 15\n",
    "          AND tomatch.rdm_float > 0.50\n",
    "          AND tomatch2.rdm_float > 0.50\n",
    "          \"\"\")\n",
    "\n",
    "# Récupérer les résultats de la requête\n",
    "results = c.fetchall()\n",
    "\n",
    "# Afficher les résultats\n",
    "for row in results:\n",
    "    print(row)"
   ]
  },
  {
   "cell_type": "code",
   "execution_count": null,
   "id": "2a99d02c",
   "metadata": {},
   "outputs": [],
   "source": [
    "#MySQL"
   ]
  },
  {
   "cell_type": "code",
   "execution_count": 55,
   "id": "44e5f12e",
   "metadata": {
    "scrolled": false
   },
   "outputs": [
    {
     "name": "stdout",
     "output_type": "stream",
     "text": [
      "Nombre de commandes : 175\n"
     ]
    }
   ],
   "source": [
    "# 1: How many orders were placed in total?\n",
    "import mysql.connector\n",
    "\n",
    "mydb = mysql.connector.connect(\n",
    "    host=\"localhost\",\n",
    "    user=\"root\",\n",
    "    password=\"root\",\n",
    "    database=\"m1_ds2e\"\n",
    ")\n",
    "\n",
    "c = mydb.cursor()\n",
    "\n",
    "c.execute(\"SELECT COUNT(*) FROM sample_superstore\")\n",
    "\n",
    "total_orders = c.fetchone()[0]\n",
    "\n",
    "print(\"Nombre de commandes :\", total_orders)"
   ]
  },
  {
   "cell_type": "code",
   "execution_count": 44,
   "id": "0c6b6caf",
   "metadata": {},
   "outputs": [
    {
     "name": "stdout",
     "output_type": "stream",
     "text": [
      "Montant total des ventes : 130555.31\n"
     ]
    }
   ],
   "source": [
    "# 2: What is the total sales amount?\n",
    "c.execute(\"SELECT ROUND(SUM(Sales), 2) FROM sample_superstore\")\n",
    "\n",
    "total_sales_amount=c.fetchone()[0]\n",
    "\n",
    "print(\"Montant total des ventes :\", total_sales_amount)"
   ]
  },
  {
   "cell_type": "code",
   "execution_count": 56,
   "id": "e89b76a8",
   "metadata": {},
   "outputs": [
    {
     "name": "stdout",
     "output_type": "stream",
     "text": [
      "Bénéfice moyen par commande : 136.04\n"
     ]
    }
   ],
   "source": [
    "# 3: What is the average profit per order?\n",
    "c.execute(\"SELECT ROUND(AVG(Profit), 2) FROM sample_superstore\")\n",
    "\n",
    "average_profit_per_order = c.fetchone()[0]\n",
    "\n",
    "print(\"Bénéfice moyen par commande :\", average_profit_per_order)"
   ]
  },
  {
   "cell_type": "code",
   "execution_count": 57,
   "id": "add48984",
   "metadata": {
    "scrolled": false
   },
   "outputs": [
    {
     "name": "stdout",
     "output_type": "stream",
     "text": [
      "Client avec le plus de commandes : Tony Wilkins Winters avec 12 commandes\n"
     ]
    }
   ],
   "source": [
    "# 4: Which customer has placed the most orders?\n",
    "c.execute(\"\"\"\n",
    "    SELECT `Customer Name`, COUNT(*) AS num_orders\n",
    "    FROM sample_superstore\n",
    "    GROUP BY `Customer Name`\n",
    "    ORDER BY num_orders DESC\n",
    "    LIMIT 1\n",
    "\"\"\")\n",
    "\n",
    "customer_most_orders = c.fetchone()\n",
    "\n",
    "if customer_most_orders:\n",
    "    print(\"Client avec le plus de commandes :\", customer_most_orders[0], \"avec\", customer_most_orders[1], \"commandes\")\n",
    "else:\n",
    "    print(\"Pas de client trouvé\")"
   ]
  },
  {
   "cell_type": "code",
   "execution_count": 59,
   "id": "9fb007e3",
   "metadata": {},
   "outputs": [
    {
     "name": "stdout",
     "output_type": "stream",
     "text": [
      "Catégorie: Office Supplies - Profit Total: 11605.983540000001\n",
      "Catégorie: Technology - Profit Total: 10225.340091999999\n",
      "Catégorie: Furniture - Profit Total: 1976.0725965000036\n"
     ]
    }
   ],
   "source": [
    "# 5: What is the total profit for each product category?\n",
    "c.execute(\"\"\"\n",
    "    SELECT `Product Category`, SUM(Profit) AS total_profit\n",
    "    FROM sample_superstore\n",
    "    GROUP BY `Product Category`\n",
    "\"\"\")\n",
    "\n",
    "product_category_profit = c.fetchall()\n",
    "\n",
    "for row in product_category_profit:\n",
    "    print(\"Catégorie:\", row[0], \"- Profit Total:\", row[1])"
   ]
  },
  {
   "cell_type": "code",
   "execution_count": 60,
   "id": "ae77d0da",
   "metadata": {},
   "outputs": [
    {
     "name": "stdout",
     "output_type": "stream",
     "text": [
      "Pourcentage moyen de remise : 0.0496571428571428\n"
     ]
    }
   ],
   "source": [
    "# 6: What is the average discount percentage?\n",
    "c.execute(\"SELECT AVG(Discount) FROM sample_superstore\")\n",
    "\n",
    "# Récupérer le résultat de la requête\n",
    "average_discount_percentage = c.fetchone()[0]\n",
    "\n",
    "# Afficher le pourcentage moyen de remise\n",
    "print(\"Pourcentage moyen de remise :\", average_discount_percentage)"
   ]
  },
  {
   "cell_type": "code",
   "execution_count": 62,
   "id": "b0ce1410",
   "metadata": {},
   "outputs": [
    {
     "name": "stdout",
     "output_type": "stream",
     "text": [
      "Région avec le plus de ventes : West avec un montant des ventes s'élevant à 75678.49999999999\n"
     ]
    }
   ],
   "source": [
    "# 7: Which region has the highest total sales?\n",
    "c.execute(\"\"\"\n",
    "    SELECT Region, SUM(Sales) AS total_sales\n",
    "    FROM sample_superstore\n",
    "    GROUP BY Region\n",
    "    ORDER BY total_sales DESC\n",
    "    LIMIT 1\n",
    "\"\"\")\n",
    "\n",
    "region_highest_sales = c.fetchone()\n",
    "\n",
    "print(\"Région avec le plus de ventes :\", region_highest_sales[0], \"avec un montant des ventes s'élevant à\", region_highest_sales[1])"
   ]
  },
  {
   "cell_type": "code",
   "execution_count": 63,
   "id": "4d7c6b76",
   "metadata": {},
   "outputs": [
    {
     "name": "stdout",
     "output_type": "stream",
     "text": [
      "Mode d'envoi: Regular Air - Nombre de commandes : 131\n",
      "Mode d'envoi: Express Air - Nombre de commandes : 23\n",
      "Mode d'envoi: Delivery Truck - Nombre de commandes : 21\n"
     ]
    }
   ],
   "source": [
    "# 8: How many orders were shipped using each shipping mode?\n",
    "c.execute(\"\"\"\n",
    "    SELECT `Ship Mode`, COUNT(*) AS num_orders\n",
    "    FROM sample_superstore\n",
    "    GROUP BY `Ship Mode`\n",
    "\"\"\")\n",
    "\n",
    "shipping_mode_orders = c.fetchall()\n",
    "\n",
    "for row in shipping_mode_orders:\n",
    "    print(\"Mode d'envoi:\", row[0], \"- Nombre de commandes :\", row[1])"
   ]
  },
  {
   "cell_type": "code",
   "execution_count": 43,
   "id": "058a14c3",
   "metadata": {},
   "outputs": [
    {
     "name": "stdout",
     "output_type": "stream",
     "text": [
      "Product Sub-Category: Labels - Total Quantity Ordered: 171\n",
      "Product Sub-Category: Pens & Art Supplies - Total Quantity Ordered: 196\n",
      "Product Sub-Category: Paper - Total Quantity Ordered: 286\n",
      "Product Sub-Category: Scissors, Rulers and Trimmers - Total Quantity Ordered: 24\n",
      "Product Sub-Category: Telephones and Communication - Total Quantity Ordered: 252\n",
      "Product Sub-Category: Office Machines - Total Quantity Ordered: 123\n",
      "Product Sub-Category: Chairs & Chairmats - Total Quantity Ordered: 166\n",
      "Product Sub-Category: Appliances - Total Quantity Ordered: 184\n",
      "Product Sub-Category: Bookcases - Total Quantity Ordered: 39\n",
      "Product Sub-Category: Tables - Total Quantity Ordered: 50\n",
      "Product Sub-Category: Envelopes - Total Quantity Ordered: 46\n",
      "Product Sub-Category: Office Furnishings - Total Quantity Ordered: 233\n",
      "Product Sub-Category: Rubber Bands - Total Quantity Ordered: 119\n",
      "Product Sub-Category: Binders and Binder Accessories - Total Quantity Ordered: 129\n",
      "Product Sub-Category: Storage & Organization - Total Quantity Ordered: 121\n",
      "Product Sub-Category: Copiers and Fax - Total Quantity Ordered: 5\n",
      "Product Sub-Category: Computer Peripherals - Total Quantity Ordered: 69\n"
     ]
    }
   ],
   "source": [
    "# 9: What is the total quantity ordered for each product sub-category?\n",
    "c.execute(\"\"\"\n",
    "    SELECT `Product Sub-Category`, SUM(`Quantity ordered new`) AS total_quantity_ordered\n",
    "    FROM sample_superstore\n",
    "    GROUP BY `Product Sub-Category`\n",
    "\"\"\")\n",
    "\n",
    "product_subcategory_quantity = c.fetchall()\n",
    "\n",
    "for row in product_subcategory_quantity:\n",
    "    print(\"Product Sub-Category:\", row[0], \"- Total Quantity Ordered:\", row[1])"
   ]
  },
  {
   "cell_type": "code",
   "execution_count": 40,
   "id": "603b3247",
   "metadata": {},
   "outputs": [
    {
     "name": "stdout",
     "output_type": "stream",
     "text": [
      "Product with the highest profit margin: Accessory29 with a profit margin of 0.83\n"
     ]
    }
   ],
   "source": [
    "# 10: Which product has the highest profit margin?\n",
    "c.execute(\"\"\"\n",
    "    SELECT `Product Name`, `Product Base Margin`\n",
    "    FROM sample_superstore\n",
    "    WHERE `Product Base Margin` = (\n",
    "        SELECT MAX(`Product Base Margin`)\n",
    "        FROM sample_superstore\n",
    "    )\n",
    "\"\"\")\n",
    "\n",
    "product_highest_profit_margin = c.fetchone()\n",
    "\n",
    "if product_highest_profit_margin:\n",
    "    print(\"Product with the highest profit margin:\", product_highest_profit_margin[0], \"with a profit margin of\", product_highest_profit_margin[1])\n",
    "else:\n",
    "    print(\"No product found.\")"
   ]
  },
  {
   "cell_type": "code",
   "execution_count": 54,
   "id": "304def97",
   "metadata": {},
   "outputs": [
    {
     "name": "stdout",
     "output_type": "stream",
     "text": [
      "Year: 2010 - Total Sales: 25377.779999999995\n",
      "Year: 2011 - Total Sales: 12048.119999999997\n",
      "Year: 2012 - Total Sales: 44893.209999999985\n",
      "Year: 2013 - Total Sales: 48236.200000000004\n"
     ]
    }
   ],
   "source": [
    "# 11: What is the total sales amount for each year?\n",
    "c.execute(\"\"\"\n",
    "    SELECT YEAR(STR_TO_DATE(`Order Date`, '%m/%d/%Y')) AS Year, SUM(Sales) AS Total_Sales\n",
    "    FROM sample_superstore\n",
    "    GROUP BY YEAR(STR_TO_DATE(`Order Date`, '%m/%d/%Y'))\n",
    "    ORDER BY YEAR(STR_TO_DATE(`Order Date`, '%m/%d/%Y'))\n",
    "\"\"\")\n",
    "\n",
    "sales_by_year = c.fetchall()\n",
    "\n",
    "for year, total_sales in sales_by_year:\n",
    "    print(\"Year:\", year, \"- Total Sales:\", total_sales)"
   ]
  },
  {
   "cell_type": "code",
   "execution_count": 51,
   "id": "2d838ecc",
   "metadata": {},
   "outputs": [
    {
     "name": "stdout",
     "output_type": "stream",
     "text": [
      "Customer segment with the highest average sales: Small Business with an average sales of 1041.5648076923078\n"
     ]
    }
   ],
   "source": [
    "# 12: Which customer segment has the highest average sales?\n",
    "c.execute(\"\"\"\n",
    "    SELECT `Customer Segment`, AVG(Sales) AS avg_sales\n",
    "    FROM sample_superstore\n",
    "    GROUP BY `Customer Segment`\n",
    "    ORDER BY avg_sales DESC\n",
    "    LIMIT 1\n",
    "\"\"\")\n",
    "\n",
    "highest_avg_sales_segment = c.fetchone()\n",
    "\n",
    "if highest_avg_sales_segment:\n",
    "    print(\"Customer segment with the highest average sales:\", highest_avg_sales_segment[0], \"with an average sales of\", highest_avg_sales_segment[1])\n",
    "else:\n",
    "    print(\"No segment found.\")"
   ]
  },
  {
   "cell_type": "code",
   "execution_count": null,
   "id": "a279a319",
   "metadata": {},
   "outputs": [],
   "source": [
    "# PostgreSQL"
   ]
  },
  {
   "cell_type": "code",
   "execution_count": 69,
   "id": "13320ecd",
   "metadata": {},
   "outputs": [
    {
     "name": "stdout",
     "output_type": "stream",
     "text": [
      "Moyenne d'âge des clients : 40.9362102143283714\n"
     ]
    }
   ],
   "source": [
    "# 1: What is the average age of the customers?\n",
    "import psycopg2\n",
    "\n",
    "# Connect to PostgreSQL database\n",
    "conn = psycopg2.connect(dbname=\"new_db\", user=\"postgres\", password=\"delpotro98\", host=\"localhost\", port=\"5432\")\n",
    "\n",
    "# Create a cursor object\n",
    "cur = conn.cursor()\n",
    "\n",
    "# Execute the query to calculate the average age\n",
    "cur.execute(\"SELECT AVG(age) FROM bank_full\")\n",
    "\n",
    "# Fetch the result\n",
    "average_age = cur.fetchone()[0]\n",
    "\n",
    "print(\"Moyenne d'âge des clients :\", average_age)"
   ]
  },
  {
   "cell_type": "code",
   "execution_count": 70,
   "id": "1edcb583",
   "metadata": {},
   "outputs": [
    {
     "name": "stdout",
     "output_type": "stream",
     "text": [
      "Nombre de clients ayant un défaut de paiement sur les prêts : 815\n"
     ]
    }
   ],
   "source": [
    "# 2: How many customers have defaulted on loans?\n",
    "cur.execute(\"SELECT COUNT(*) FROM bank_full WHERE default_ = 'yes'\")\n",
    "\n",
    "# Fetch the result\n",
    "defaulted_customers_count = cur.fetchone()[0]\n",
    "\n",
    "print(\"Nombre de clients ayant un défaut de paiement sur les prêts :\", defaulted_customers_count)"
   ]
  },
  {
   "cell_type": "code",
   "execution_count": 72,
   "id": "dbbf306f",
   "metadata": {},
   "outputs": [
    {
     "name": "stdout",
     "output_type": "stream",
     "text": [
      "Solde maximum dans le compte : 102127\n"
     ]
    }
   ],
   "source": [
    "# 3: What is the maximum balance in the account?\n",
    "cur.execute(\"SELECT MAX(balance) FROM bank_full\")\n",
    "\n",
    "max_balance = cur.fetchone()[0]\n",
    "\n",
    "print(\"Solde maximum dans le compte :\", max_balance)"
   ]
  },
  {
   "cell_type": "code",
   "execution_count": 74,
   "id": "e8e7e3d9",
   "metadata": {},
   "outputs": [
    {
     "name": "stdout",
     "output_type": "stream",
     "text": [
      "Nombre de clients avec un prêt immobilier : 25130\n"
     ]
    }
   ],
   "source": [
    "# 4: How many customers have a housing loan?\n",
    "cur.execute(\"SELECT COUNT(*) FROM bank_full WHERE housing = 'yes'\")\n",
    "\n",
    "num_customers_with_housing_loan = cur.fetchone()[0]\n",
    "\n",
    "print(\"Nombre de clients avec un prêt immobilier :\", num_customers_with_housing_loan)"
   ]
  },
  {
   "cell_type": "code",
   "execution_count": 75,
   "id": "35a4004c",
   "metadata": {},
   "outputs": [
    {
     "name": "stdout",
     "output_type": "stream",
     "text": [
      "Niveau d'éducation du client le plus jeune : primary\n"
     ]
    }
   ],
   "source": [
    "# 5: What is the education level of the youngest customer?\n",
    "cur.execute(\"SELECT education FROM bank_full ORDER BY age LIMIT 1\")\n",
    "\n",
    "education_youngest_customer = cur.fetchone()[0]\n",
    "\n",
    "print(\"Niveau d'éducation du client le plus jeune :\", education_youngest_customer)"
   ]
  },
  {
   "cell_type": "code",
   "execution_count": 76,
   "id": "bb8ca9f3",
   "metadata": {},
   "outputs": [
    {
     "name": "stdout",
     "output_type": "stream",
     "text": [
      "Statut matrimonial du client le plus âgé : divorced\n"
     ]
    }
   ],
   "source": [
    "# 6: What is the marital status of the oldest customer?\n",
    "cur.execute(\"SELECT marital FROM bank_full ORDER BY age DESC LIMIT 1\")\n",
    "\n",
    "marital_status_oldest_customer = cur.fetchone()[0]\n",
    "\n",
    "print(\"Statut matrimonial du client le plus âgé :\", marital_status_oldest_customer)"
   ]
  },
  {
   "cell_type": "code",
   "execution_count": 77,
   "id": "e32eac3b",
   "metadata": {},
   "outputs": [
    {
     "name": "stdout",
     "output_type": "stream",
     "text": [
      "Distribution des mois de dernier contact des clients :\n",
      "apr : 2932\n",
      "aug : 6247\n",
      "dec : 214\n",
      "feb : 2649\n",
      "jan : 1403\n",
      "jul : 6895\n",
      "jun : 5341\n",
      "mar : 477\n",
      "may : 13766\n",
      "nov : 3970\n",
      "oct : 738\n",
      "sep : 579\n"
     ]
    }
   ],
   "source": [
    "# 7: What is the distribution of the months in which customers were last contacted?\n",
    "cur.execute(\"SELECT month, COUNT(*) FROM bank_full GROUP BY month ORDER BY month\")\n",
    "\n",
    "month_distribution = cur.fetchall()\n",
    "\n",
    "print(\"Distribution des mois de dernier contact des clients :\")\n",
    "for month, count in month_distribution:\n",
    "    print(month, \":\", count)"
   ]
  },
  {
   "cell_type": "code",
   "execution_count": 80,
   "id": "ada0d6d5",
   "metadata": {},
   "outputs": [
    {
     "name": "stdout",
     "output_type": "stream",
     "text": [
      "Durée moyenne de contact pour les clients avec un prêt personnel : 250.85\n"
     ]
    }
   ],
   "source": [
    "# 8: What is the average duration of contact for customers who have a personal loan?\n",
    "cur.execute(\"SELECT ROUND(AVG(duration), 2) FROM bank_full WHERE loan = 'yes'\")\n",
    "\n",
    "average_duration = cur.fetchone()[0]\n",
    "\n",
    "print(\"Durée moyenne de contact pour les clients avec un prêt personnel :\", average_duration)"
   ]
  },
  {
   "cell_type": "code",
   "execution_count": 88,
   "id": "55e3f72f",
   "metadata": {},
   "outputs": [
    {
     "name": "stdout",
     "output_type": "stream",
     "text": [
      "Nombre de clients précédemment contactés : 8257\n",
      "Durée moyenne du dernier contact des clients précédemment contactés : 260.12\n"
     ]
    }
   ],
   "source": [
    "# 9: How many customers were previously contacted, and what was the average duration of their last contact?\n",
    "cur.execute(\"SELECT COUNT(*) FROM bank_full WHERE pdays != -1\")\n",
    "num_customers_contacted = cur.fetchone()[0]\n",
    "\n",
    "cur.execute(\"SELECT ROUND(AVG(duration), 2) FROM bank_full WHERE pdays != -1\")\n",
    "average_duration_last_contact = cur.fetchone()[0]\n",
    "\n",
    "print(\"Nombre de clients précédemment contactés :\", num_customers_contacted)\n",
    "print(\"Durée moyenne du dernier contact des clients précédemment contactés :\", average_duration_last_contact)"
   ]
  },
  {
   "cell_type": "code",
   "execution_count": 83,
   "id": "13951d06",
   "metadata": {},
   "outputs": [
    {
     "name": "stdout",
     "output_type": "stream",
     "text": [
      "Distribution des types d'emploi parmi les clients :\n",
      "blue-collar : 9732\n",
      "management : 9458\n",
      "technician : 7597\n",
      "admin. : 5171\n",
      "services : 4154\n",
      "retired : 2264\n",
      "self-employed : 1579\n",
      "entrepreneur : 1487\n",
      "unemployed : 1303\n",
      "housemaid : 1240\n",
      "student : 938\n",
      "unknown : 288\n"
     ]
    }
   ],
   "source": [
    "# 10: What is the distribution of job types among customers?\n",
    "cur.execute(\"SELECT job, COUNT(*) FROM bank_full GROUP BY job ORDER BY COUNT(*) DESC\")\n",
    "\n",
    "job_distribution = cur.fetchall()\n",
    "\n",
    "print(\"Distribution des types d'emploi parmi les clients :\")\n",
    "for row in job_distribution:\n",
    "    print(row[0], \":\", row[1])"
   ]
  },
  {
   "cell_type": "code",
   "execution_count": 103,
   "id": "3b995fed",
   "metadata": {},
   "outputs": [
    {
     "name": "stdout",
     "output_type": "stream",
     "text": [
      "Nombre de clients contactés plus d'une fois au cours de la campagne : 2639\n"
     ]
    }
   ],
   "source": [
    "# 11: How many customers have been contacted more than once in the current campaign?\n",
    "# Il semblerait qu'il n'y ait pas de colonne spécifique pour identifier les clients individuels (comme un ID par exemple). Nous prendrons donc une combinaison de colonnes qui, ensemble, pourraient identifier de manière unique un client(age, job, marital et education dans mon cas). \n",
    "cur.execute(\"\"\"\n",
    "        SELECT COUNT(*) FROM (\n",
    "            SELECT age, job, marital, education, COUNT(*) \n",
    "            FROM bank_full \n",
    "            GROUP BY age, job, marital, education \n",
    "            HAVING COUNT(*) > 1\n",
    "        ) AS subquery\n",
    "    \"\"\")\n",
    "\n",
    "num_customers_contacted_multiple_times = cur.fetchone()[0]\n",
    "\n",
    "print(\"Nombre de clients contactés plus d'une fois au cours de la campagne :\", num_customers_contacted_multiple_times)"
   ]
  },
  {
   "cell_type": "code",
   "execution_count": 96,
   "id": "65ae5a24",
   "metadata": {},
   "outputs": [
    {
     "name": "stdout",
     "output_type": "stream",
     "text": [
      "Taux de réussite des campagnes marketing précédentes parmi les clients : 3.34210700935613 %\n"
     ]
    }
   ],
   "source": [
    "# 12: What is the success rate of previous marketing campaigns (poutcome) among customers\n",
    "cur.execute(\"SELECT COUNT(*) FROM bank_full\")\n",
    "total_customers = cur.fetchone()[0]\n",
    "\n",
    "cur.execute(\"SELECT COUNT(*) FROM bank_full WHERE poutcome = 'success'\")\n",
    "successful_customers = cur.fetchone()[0]\n",
    "\n",
    "success_rate = (successful_customers / total_customers) * 100\n",
    "\n",
    "print(\"Taux de réussite des campagnes marketing précédentes parmi les clients :\", success_rate, \"%\")"
   ]
  }
 ],
 "metadata": {
  "kernelspec": {
   "display_name": "Python 3 (ipykernel)",
   "language": "python",
   "name": "python3"
  },
  "language_info": {
   "codemirror_mode": {
    "name": "ipython",
    "version": 3
   },
   "file_extension": ".py",
   "mimetype": "text/x-python",
   "name": "python",
   "nbconvert_exporter": "python",
   "pygments_lexer": "ipython3",
   "version": "3.11.5"
  }
 },
 "nbformat": 4,
 "nbformat_minor": 5
}
